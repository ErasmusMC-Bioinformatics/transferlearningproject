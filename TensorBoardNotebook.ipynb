{
 "cells": [
  {
   "cell_type": "markdown",
   "id": "44a33bac-b536-4c7d-85c4-76998d786339",
   "metadata": {},
   "source": [
    "# Call Tensorboard\n",
    "<p> Put name of logs file (obtained from hyperparameter tuning) after --logdir </p>"
   ]
  },
  {
   "cell_type": "code",
   "execution_count": 2,
   "id": "79de0c2a-17da-4284-8f20-af9508d6471a",
   "metadata": {},
   "outputs": [
    {
     "name": "stdout",
     "output_type": "stream",
     "text": [
      "The tensorboard extension is already loaded. To reload it, use:\n",
      "  %reload_ext tensorboard\n"
     ]
    },
    {
     "data": {
      "text/html": [
       "\n",
       "      <iframe id=\"tensorboard-frame-4c9c7289ac1ce1a1\" width=\"100%\" height=\"800\" frameborder=\"0\">\n",
       "      </iframe>\n",
       "      <script>\n",
       "        (function() {\n",
       "          const frame = document.getElementById(\"tensorboard-frame-4c9c7289ac1ce1a1\");\n",
       "          const url = new URL(\"/proxy/6007/\", window.location);\n",
       "          const port = 0;\n",
       "          if (port) {\n",
       "            url.port = port;\n",
       "          }\n",
       "          frame.src = url;\n",
       "        })();\n",
       "      </script>\n",
       "    "
      ],
      "text/plain": [
       "<IPython.core.display.HTML object>"
      ]
     },
     "metadata": {},
     "output_type": "display_data"
    }
   ],
   "source": [
    "%load_ext tensorboard\n",
    "%tensorboard --logdir ktuner/logs_pdac_once_ntl_3/"
   ]
  },
  {
   "cell_type": "markdown",
   "id": "4bc109d3-426c-494f-bff1-d077654a6c5c",
   "metadata": {},
   "source": [
    "### Code to make custom plots\n",
    "<p> Code to make custom plots from specific hyperparameter tuning trials </p>"
   ]
  },
  {
   "cell_type": "code",
   "execution_count": 9,
   "id": "84ef4476-9e51-43c8-a88a-1847016f45e1",
   "metadata": {},
   "outputs": [
    {
     "name": "stdout",
     "output_type": "stream",
     "text": [
      "[1.4422638, 1.2045612, 1.2879964, 1.3790606, 1.2167698]\n",
      "0.09217547\n"
     ]
    }
   ],
   "source": [
    "import tensorflow as tf\n",
    "import matplotlib.pyplot as plt\n",
    "import os\n",
    "import numpy as np\n",
    "\n",
    "def get_scalar_run_tensorboard(tag, filepath):\n",
    "    values,steps = [],[]\n",
    "    for e in tf.compat.v1.train.summary_iterator(filepath):\n",
    "        if len(e.summary.value)>0: #Skip first empty element\n",
    "            if e.summary.value[0].tag==tag:\n",
    "                tensor = (e.summary.value[0].tensor)\n",
    "                value,step = (tf.io.decode_raw(tensor.tensor_content,tf.float32)[0].numpy(),e.step)\n",
    "                values.append(value)\n",
    "                steps.append(step)\n",
    "    return values,steps\n",
    "\n",
    "\n",
    "train_values = []\n",
    "train_steps = []\n",
    "val_values = []\n",
    "val_steps = []\n",
    "\n",
    "for folds in range(5):\n",
    "    folder_name = \"ktuner/logs_pdac_11/7/fold_\" + str(folds + 1)\n",
    "    for file in sorted(os.listdir(folder_name + \"/train/\")):\n",
    "        filename = folder_name + \"/train/\" + file\n",
    "        val,st = get_scalar_run_tensorboard(\"epoch_loss\",filename)\n",
    "        train_values.append(val)\n",
    "        train_steps.append(st)\n",
    "    for file in sorted(os.listdir(folder_name + \"/validation/\")):\n",
    "        filename = folder_name + \"/validation/\" + file\n",
    "        val,st = get_scalar_run_tensorboard(\"epoch_loss\",filename)\n",
    "        val_values.append(val)\n",
    "        val_steps.append(st)\n",
    "        \n",
    "\n",
    "final_losses = []\n",
    "early_stopping_val = 80\n",
    "\n",
    "for fold in val_values:\n",
    "    final_losses.append(fold[-early_stopping_val])\n",
    "\n",
    "print(final_losses)\n",
    "print(np.std(final_losses))\n",
    "\n",
    "\n",
    "# fig = plt.figure(figsize=(12, 6))\n",
    "# ax = fig.add_subplot(121)\n",
    "# ax2 = fig.add_subplot(122)\n",
    "# #ax2.set_prop_cycle(color=['red','red','black', 'black','yellow', 'yellow','green', 'green','blue', 'blue'])\n",
    "# ax2.set_prop_cycle(color=['red','red','black', 'black','yellow', 'yellow','green', 'green','blue', 'blue','pink','pink','cyan','cyan','darkviolet','darkviolet','chartreuse','chartreuse','navajowhite','navajowhite'])\n",
    "# i = 1\n",
    "\n",
    "# minimum_x = 0\n",
    "# maximum_x = 2300\n",
    "# minimum_y = 1.0\n",
    "# maximum_y = 1.6\n",
    "        \n",
    "# for train_values,train_steps,val_values,val_steps in zip(train_values,train_steps,val_values,val_steps):\n",
    "\n",
    "#     ax.plot(train_steps,train_values, color=\"blue\")\n",
    "#     ax.plot(val_steps,val_values, color=\"red\")\n",
    "#     ax.axis(xmin=minimum_x,xmax=maximum_x,ymin=minimum_y,ymax=maximum_y)\n",
    "#     ax.legend(['train','val'])\n",
    "#     ax.set_xlabel('Epochs')\n",
    "#     ax.set_ylabel('Loss')\n",
    "#     ax2.plot(train_steps,train_values)\n",
    "#     ax2.plot(val_steps,val_values)\n",
    "#     ax2.axis(xmin=minimum_x,xmax=maximum_x,ymin=minimum_y,ymax=maximum_y)\n",
    "#     #ax2.legend(['fold 1','fold 2','fold 3','fold 4','fold 5'])\n",
    "#     ax2.legend(['loop 1','loop 2','loop 3','loop 4','loop 5','loop 6','loop 7','loop 8','loop 9','loop 10'])\n",
    "#     ax2.set_xlabel('Epochs')\n",
    "#     ax2.set_ylabel('Loss')\n"
   ]
  },
  {
   "cell_type": "code",
   "execution_count": null,
   "id": "709fb972-c61c-45aa-b4eb-e91872415a81",
   "metadata": {},
   "outputs": [],
   "source": []
  },
  {
   "cell_type": "code",
   "execution_count": null,
   "id": "ae0db9a7-4857-47a6-891e-1457696f202e",
   "metadata": {},
   "outputs": [],
   "source": []
  }
 ],
 "metadata": {
  "environment": {
   "kernel": "python3",
   "name": "tf2-gpu.2-9.m94",
   "type": "gcloud",
   "uri": "gcr.io/deeplearning-platform-release/tf2-gpu.2-9:m94"
  },
  "kernelspec": {
   "display_name": "Python 3",
   "language": "python",
   "name": "python3"
  },
  "language_info": {
   "codemirror_mode": {
    "name": "ipython",
    "version": 3
   },
   "file_extension": ".py",
   "mimetype": "text/x-python",
   "name": "python",
   "nbconvert_exporter": "python",
   "pygments_lexer": "ipython3",
   "version": "3.7.12"
  }
 },
 "nbformat": 4,
 "nbformat_minor": 5
}
