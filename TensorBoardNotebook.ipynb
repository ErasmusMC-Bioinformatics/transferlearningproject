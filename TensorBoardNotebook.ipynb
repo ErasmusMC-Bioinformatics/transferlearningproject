{
 "cells": [
  {
   "cell_type": "markdown",
   "id": "44a33bac-b536-4c7d-85c4-76998d786339",
   "metadata": {},
   "source": [
    "# Call Tensorboard\n",
    "<p> Put name of logs file (obtained from hyperparameter tuning) after --logdir </p>"
   ]
  },
  {
   "cell_type": "code",
   "execution_count": null,
   "id": "79de0c2a-17da-4284-8f20-af9508d6471a",
   "metadata": {},
   "outputs": [],
   "source": [
    "%load_ext tensorboard\n",
    "%tensorboard --logdir ktuner/logs_setup6_fold_40/"
   ]
  }
 ],
 "metadata": {
  "environment": {
   "kernel": "python3",
   "name": "tf2-gpu.2-9.m94",
   "type": "gcloud",
   "uri": "gcr.io/deeplearning-platform-release/tf2-gpu.2-9:m94"
  },
  "kernelspec": {
   "display_name": "Python 3",
   "language": "python",
   "name": "python3"
  },
  "language_info": {
   "codemirror_mode": {
    "name": "ipython",
    "version": 3
   },
   "file_extension": ".py",
   "mimetype": "text/x-python",
   "name": "python",
   "nbconvert_exporter": "python",
   "pygments_lexer": "ipython3",
   "version": "3.7.12"
  }
 },
 "nbformat": 4,
 "nbformat_minor": 5
}
