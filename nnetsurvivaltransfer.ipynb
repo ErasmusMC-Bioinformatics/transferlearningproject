{
 "cells": [
  {
   "cell_type": "markdown",
   "id": "7f691807-033a-4ee2-8056-73a909e9a876",
   "metadata": {},
   "source": [
    "## Nnet-survival PDAC Transfer learning"
   ]
  },
  {
   "cell_type": "markdown",
   "id": "79a16a61-e4e2-49eb-8684-f94b8a0e407f",
   "metadata": {},
   "source": [
    "Imports"
   ]
  },
  {
   "cell_type": "code",
   "execution_count": 136,
   "id": "636926e5-f7b0-48df-9bbc-4293b8bce9d9",
   "metadata": {},
   "outputs": [],
   "source": [
    "import os\n",
    "import keras.optimizers\n",
    "import pandas as pd\n",
    "import numpy as np\n",
    "import matplotlib.pyplot as plt\n",
    "import matplotlib\n",
    "import tensorflow.keras.backend as K\n",
    "import nnet_survival\n",
    "import keras_tuner as kt\n",
    "import matplotlib.pylab as plt\n",
    "import tensorflow as tf\n",
    "import matplotlib.pylab as plt\n",
    "import importlib\n",
    "\n",
    "from sklearn.preprocessing import MinMaxScaler\n",
    "from tensorflow import keras\n",
    "from matplotlib.pyplot import figure\n",
    "from tensorflow import keras\n",
    "from kerastuner_tensorboard_logger import (\n",
    "    TensorBoardLogger,\n",
    "    setup_tb  # Optional\n",
    ")\n",
    "from matplotlib.pyplot import figure\n",
    "from sklearn.model_selection import GridSearchCV\n",
    "from scikeras.wrappers import KerasRegressor\n",
    "from sklearn.preprocessing import MinMaxScaler\n",
    "from tensorflow.keras.models import Sequential, Model\n",
    "from tensorflow.keras import optimizers, layers, regularizers\n",
    "from tensorflow.keras.callbacks import EarlyStopping, ModelCheckpoint\n",
    "from tensorflow.keras.layers import Input, Dense, Activation, Dropout\n",
    "from tensorflow.keras.models import load_model\n",
    "from lifelines import KaplanMeierFitter\n",
    "from lifelines import CoxPHFitter\n",
    "from lifelines.utils import concordance_index\n",
    "from sksurv.metrics import concordance_index_censored,brier_score\n",
    "from sklearn.model_selection import KFold, StratifiedKFold, RepeatedStratifiedKFold\n",
    "from sklearn.model_selection import train_test_split\n",
    "from sksurv.util import Surv"
   ]
  },
  {
   "cell_type": "markdown",
   "id": "d0d30201-bd19-4832-a762-a4efe171f762",
   "metadata": {
    "tags": []
   },
   "source": [
    "### Import multi-cancer Data\n",
    "<p> For every file in folder open read inside and store in pandas dataframe </p>"
   ]
  },
  {
   "cell_type": "code",
   "execution_count": 137,
   "id": "672ba2ad-39e0-4344-a23c-7bd1c7ffc4d6",
   "metadata": {},
   "outputs": [
    {
     "name": "stdout",
     "output_type": "stream",
     "text": [
      "mrnaDataUnscaled/ACC.csv\n",
      "mrnaDataUnscaled/BLCA.csv\n",
      "mrnaDataUnscaled/BRCA.csv\n",
      "mrnaDataUnscaled/CESC.csv\n",
      "mrnaDataUnscaled/CHOL.csv\n",
      "mrnaDataUnscaled/COAD.csv\n",
      "mrnaDataUnscaled/DLBC.csv\n",
      "mrnaDataUnscaled/ESCA.csv\n",
      "mrnaDataUnscaled/GBM.csv\n",
      "mrnaDataUnscaled/HNSC.csv\n",
      "mrnaDataUnscaled/KICH.csv\n",
      "mrnaDataUnscaled/KIRC.csv\n",
      "mrnaDataUnscaled/KIRP.csv\n",
      "mrnaDataUnscaled/LAML.csv\n",
      "mrnaDataUnscaled/LGG.csv\n",
      "mrnaDataUnscaled/LIHC.csv\n",
      "mrnaDataUnscaled/LUAD.csv\n",
      "mrnaDataUnscaled/LUSC.csv\n",
      "mrnaDataUnscaled/MESO.csv\n",
      "mrnaDataUnscaled/OV.csv\n",
      "mrnaDataUnscaled/PCPG.csv\n",
      "mrnaDataUnscaled/PRAD.csv\n",
      "mrnaDataUnscaled/READ.csv\n",
      "mrnaDataUnscaled/SARC.csv\n",
      "mrnaDataUnscaled/SKCM.csv\n",
      "mrnaDataUnscaled/STAD.csv\n",
      "mrnaDataUnscaled/TGCT.csv\n",
      "mrnaDataUnscaled/THCA.csv\n",
      "mrnaDataUnscaled/THYM.csv\n",
      "mrnaDataUnscaled/UCEC.csv\n",
      "mrnaDataUnscaled/UCS.csv\n",
      "mrnaDataUnscaled/UVM.csv\n"
     ]
    }
   ],
   "source": [
    "mrna_list = []\n",
    "mrna_folder = \"Data/mrnaDataUnscaled\"\n",
    "clinical_folder = \"Data/ClinicalData\"\n",
    "for filename in sorted(os.listdir(mrna_folder)):\n",
    "    f = os.path.join(mrna_folder, filename)\n",
    "    print(f)\n",
    "    data = pd.read_csv(f, sep=\",\")\n",
    "    mrna_list.append(data)\n",
    "    \n",
    "clinical_list = []\n",
    "for filename in sorted(os.listdir(clinical_folder)):\n",
    "    f = os.path.join(clinical_folder, filename)\n",
    "    data = pd.read_csv(f, sep=\"\\t\")\n",
    "    clinical_list.append(data)"
   ]
  },
  {
   "cell_type": "markdown",
   "id": "bc482697-f2cf-4fb7-a224-59efda17c9e1",
   "metadata": {},
   "source": [
    "### Import optimal cancers subset\n",
    "\n",
    "<p> These cancers are most similar to PDAC, and give the best performance.</p>\n",
    "<ul>\n",
    "  <li>STAD</li>\n",
    "  <li>CHOL</li>\n",
    "  <li>SARC</li>\n",
    "  <li>TGCT</li>\n",
    "    <li>COAD</li>\n",
    "</ul>"
   ]
  },
  {
   "cell_type": "code",
   "execution_count": null,
   "id": "41151ea3-8c72-4441-969d-efce6ff9c603",
   "metadata": {},
   "outputs": [],
   "source": [
    "mrna_list = []\n",
    "mrna_folder = \"Data/subsetMrna\"\n",
    "clinical_folder = \"Data/subsetClinical\"\n",
    "for filename in sorted(os.listdir(mrna_folder)):\n",
    "    f = os.path.join(mrna_folder, filename)\n",
    "    print(f)\n",
    "    data = pd.read_csv(f, sep=\",\")\n",
    "    mrna_list.append(data)\n",
    "    \n",
    "clinical_list = []\n",
    "for filename in sorted(os.listdir(clinical_folder)):\n",
    "    f = os.path.join(clinical_folder, filename)\n",
    "    data = pd.read_csv(f, sep=\"\\t\")\n",
    "    clinical_list.append(data)"
   ]
  },
  {
   "cell_type": "markdown",
   "id": "756631de-40f0-4efd-b788-30b2eb9e941d",
   "metadata": {},
   "source": [
    "### Prepare multi-cancer data for tensorflow \n",
    "\n",
    "<p>Every data set is handled individually, and merged in the end.<br></p>\n",
    "\n",
    "<ol>\n",
    "  <li>First The clinical samples are matched to the genomic samples.</li>\n",
    "  <li>Then samples are filtered out of the clinical data that are not in the mRNA data</li>\n",
    "  <li>After that all Not availables and Discrepancys are replaced with NaN.</li>\n",
    "  <li>Vital status Dead and Alive are set to 1 and 0 respectively.</li>\n",
    "  <li>Days are made numerical.</li>\n",
    "  <li>Remove patients that have time 0 or NaN for time/status.</li>\n",
    "  <li>Set Index of mRNA and clinical to patient barcode, and transpose the mRNA data so that the patients are in each row, and the genes in each column.</li>\n",
    "</ol>"
   ]
  },
  {
   "cell_type": "code",
   "execution_count": 138,
   "id": "0c892cc3-d196-4ee2-95c0-4ef940346bd3",
   "metadata": {},
   "outputs": [],
   "source": [
    "x_list = []\n",
    "clinical_processed_list = []\n",
    "\n",
    "for mrna,clinical in zip(mrna_list,clinical_list):\n",
    "    mrna_id = mrna.columns[1:]\n",
    "\n",
    "    # Match clinical samples to genomic samples\n",
    "    clinical.columns = clinical.iloc[0]\n",
    "    clinical = clinical.iloc[2:]\n",
    "\n",
    "    # Make intersection of patient id's that are in mrna and clinicaldata\n",
    "    clinical_id = clinical['bcr_patient_barcode']\n",
    "    intersection = list(set(mrna_id) & set(clinical_id))\n",
    "    intersection.sort()\n",
    "    intersection = pd.Series(intersection)\n",
    "\n",
    "\n",
    "    # Filter out samples in clinicaldata that are not in mrna\n",
    "    a = clinical['bcr_patient_barcode'].isin(intersection)\n",
    "    clinical = clinical[a]\n",
    "\n",
    "\n",
    "\n",
    "    # Create clinicaldata dataframe with the important features\n",
    "    clinicalnew = clinical[['bcr_patient_barcode',\n",
    "                                \"vital_status\",\n",
    "                                \"days_to_last_followup\",\n",
    "                                \"days_to_death\"]]\n",
    "    \n",
    "    #print(clinicalnew['vital_status'].value_counts())\n",
    "    \n",
    "\n",
    "    # Set missing data to NaN\n",
    "    clinicalnew['vital_status'] = clinicalnew['vital_status'].replace(\"[Discrepancy]\", 0)\n",
    "    clinicalnew['vital_status'] = clinicalnew['vital_status'].replace(\"[Not Available]\",np.nan)\n",
    "    clinicalnew[\"days_to_death\"] = clinicalnew['days_to_death'].replace(\"[Not Applicable]\", np.nan)\n",
    "    clinicalnew[\"days_to_death\"] = clinicalnew['days_to_death'].replace(\"[Not Available]\", np.nan)\n",
    "    clinicalnew[\"days_to_death\"] = clinicalnew['days_to_death'].replace(\"[Discrepancy]\", np.nan)\n",
    "    clinicalnew['days_to_last_followup'] = clinicalnew['days_to_last_followup'].replace(\"[Not Available]\", np.nan)\n",
    "    clinicalnew['days_to_last_followup'] = clinicalnew['days_to_last_followup'].replace(\"[Discrepancy]\", np.nan)\n",
    "    clinicalnew['days_to_last_followup'] = clinicalnew['days_to_last_followup'].replace(\"[Discrepancy]\", np.nan)\n",
    "    clinicalnew['days_to_last_followup'] = clinicalnew['days_to_last_followup'].replace(\"[Completed]\", np.nan)\n",
    "\n",
    "    # In vital_status set dead = 1 alive = 0\n",
    "    clinicalnew['vital_status'] = clinicalnew['vital_status'].replace(\"Dead\", 1)\n",
    "    clinicalnew[\"vital_status\"] = clinicalnew['vital_status'].replace(\"Alive\", 0)\n",
    "\n",
    "    # Set days to numeric values\n",
    "    clinicalnew[\"days_to_last_followup\"] = pd.to_numeric(clinicalnew[\"days_to_last_followup\"])\n",
    "    clinicalnew[\"days_to_death\"] = pd.to_numeric(clinicalnew[\"days_to_death\"])\n",
    "\n",
    "    # Combine days to death and days to last follow up to create a total time.\n",
    "    clinicalnew['time'] = clinicalnew['days_to_death'].combine_first(clinicalnew['days_to_last_followup'])\n",
    "\n",
    "    # Remove patients that have time 0 (so no follow up, just one recording)\n",
    "    clinicalnew = clinicalnew[clinicalnew.time != 0]\n",
    "\n",
    "    #Remove patients with nan for time or status\n",
    "    clinicalnew = clinicalnew.dropna(subset=['time'])\n",
    "    clinicalnew = clinicalnew.dropna(subset=['vital_status'])\n",
    "    \n",
    "    #Remove patients where time is negative\n",
    "    clinicalnew = clinicalnew[clinicalnew.time >= 0]\n",
    "\n",
    "    mrna.rename(columns={'Unnamed: 0': 'bcr_patient_barcode'}, inplace=True)\n",
    "    mrna = mrna.set_index('bcr_patient_barcode')\n",
    "\n",
    "    mrna = mrna.transpose()\n",
    "    mrna = mrna[mrna.index.isin(clinicalnew['bcr_patient_barcode'])]\n",
    "    mrna = mrna.reindex(np.random.RandomState(seed=1).permutation(mrna.index))\n",
    "    \n",
    "    clinicalnew = clinicalnew.set_index('bcr_patient_barcode')\n",
    "    clinicalnew = clinicalnew.loc[~clinicalnew.index.duplicated(), :]\n",
    "    clinicalnew = clinicalnew.reindex(index=mrna.index)\n",
    "    \n",
    "    x_list.append(mrna)\n",
    "    clinical_processed_list.append(clinicalnew)\n"
   ]
  },
  {
   "cell_type": "code",
   "execution_count": 139,
   "id": "93ffa385-1e95-46a8-83c1-ac1747f1dd6e",
   "metadata": {},
   "outputs": [],
   "source": [
    "xf = pd.concat(x_list)\n",
    "xf = xf.dropna(axis=1)\n",
    "clinicalf = pd.concat(clinical_processed_list)"
   ]
  },
  {
   "cell_type": "markdown",
   "id": "6c584a92-dfe9-47f8-b942-a68cbc6fe26f",
   "metadata": {},
   "source": [
    "### PDAC data preparation\n",
    "\n",
    "<p> Same steps as above </p>"
   ]
  },
  {
   "cell_type": "code",
   "execution_count": 140,
   "id": "eb2550e7-8a53-4889-94de-f4a697efe9d0",
   "metadata": {},
   "outputs": [],
   "source": [
    "clinicaldata = pd.read_csv(f\"Data/TargetDataUnscaled/nationwidechildrens.org_clinical_patient_paad.txt\", sep='\\t')\n",
    "mrna = pd.read_csv(f\"Data/TargetDataUnscaled/PAAD.csv\", sep=',')"
   ]
  },
  {
   "cell_type": "code",
   "execution_count": 141,
   "id": "86df2724-f283-4e82-9f06-d45be1f6963c",
   "metadata": {},
   "outputs": [],
   "source": [
    "mrna_id = mrna.columns[1:].tolist()\n",
    "\n",
    "# Match clinical samples to genomic samples\n",
    "\n",
    "clinicaldata.columns = clinicaldata.iloc[0]\n",
    "clinicaldata = clinicaldata.iloc[2:]\n",
    "\n",
    "\n",
    "# Make intersection of patient id's that are in mrna and clinicaldata\n",
    "clinical_id = clinicaldata['bcr_patient_barcode']\n",
    "intersection = list(set(mrna_id) & set(clinical_id))\n",
    "intersection.sort()\n",
    "intersection = pd.Series(intersection)\n",
    "\n",
    "\n",
    "# Filter out samples in clinicaldata that are not in mrna\n",
    "a = clinicaldata['bcr_patient_barcode'].isin(intersection)\n",
    "clinicaldata = clinicaldata[a]\n",
    "\n",
    "\n",
    "# Create clinicaldata dataframe with the important features\n",
    "clinicalnew = clinicaldata[['bcr_patient_barcode',\n",
    "                            \"vital_status\",\n",
    "                            \"days_to_last_followup\",\n",
    "                            \"days_to_death\"]]\n",
    "\n",
    "\n",
    "\n",
    "# Set missing data to NaN\n",
    "clinicalnew['vital_status'] = clinicalnew['vital_status'].replace(\"[Discrepancy]\", 0)\n",
    "clinicalnew[\"days_to_death\"] = clinicalnew['days_to_death'].replace(\"[Not Applicable]\", np.nan)\n",
    "clinicalnew[\"days_to_death\"] = clinicalnew['days_to_death'].replace(\"[Not Available]\", np.nan)\n",
    "clinicalnew[\"days_to_death\"] = clinicalnew['days_to_death'].replace(\"[Discrepancy]\", np.nan)\n",
    "clinicalnew['days_to_last_followup'] = clinicalnew['days_to_last_followup'].replace(\"[Not Available]\", np.nan)\n",
    "clinicalnew['days_to_last_followup'] = clinicalnew['days_to_last_followup'].replace(\"[Discrepancy]\", np.nan)\n",
    "\n",
    "# In vital_status set dead = 1 alive = 0\n",
    "clinicalnew['vital_status'] = clinicalnew['vital_status'].replace(\"Dead\", 1)\n",
    "clinicalnew[\"vital_status\"] = clinicalnew['vital_status'].replace(\"Alive\", 0)\n",
    "\n",
    "# Set days to numeric values\n",
    "clinicalnew[\"days_to_last_followup\"] = pd.to_numeric(clinicalnew[\"days_to_last_followup\"])\n",
    "clinicalnew[\"days_to_death\"] = pd.to_numeric(clinicalnew[\"days_to_death\"])\n",
    "\n",
    "# Combine days to death and days to last follow up to create a total time.\n",
    "clinicalnew['time'] = clinicalnew['days_to_death'].combine_first(clinicalnew['days_to_last_followup'])\n",
    "\n",
    "# Remove patients that have time 0 (so no follow up, just one recording)\n",
    "clinicalnew = clinicalnew[clinicalnew.time != 0]\n",
    "\n",
    "#Remove patients with nan for time\n",
    "clinicalnew = clinicalnew.dropna(subset=['time'])\n",
    "\n",
    "mrna.rename(columns={'Unnamed: 0': 'bcr_patient_barcode'}, inplace=True)\n",
    "mrna = mrna.set_index('bcr_patient_barcode')\n",
    "\n",
    "mrna = mrna.transpose()\n",
    "mrna = mrna[mrna.index.isin(clinicalnew['bcr_patient_barcode'])]\n",
    "mrna = mrna.reindex(np.random.RandomState(seed=1).permutation(mrna.index))\n",
    "clinicalnew = clinicalnew.set_index('bcr_patient_barcode')\n",
    "clinicalnew = clinicalnew.reindex(index=mrna.index)"
   ]
  },
  {
   "cell_type": "code",
   "execution_count": 142,
   "id": "0589a1b4-1994-4304-aa31-5cd373de3680",
   "metadata": {},
   "outputs": [],
   "source": [
    "xt = mrna\n",
    "yt = clinicalnew"
   ]
  },
  {
   "cell_type": "markdown",
   "id": "a94ac774-d47e-48ec-b6b4-161da7854dac",
   "metadata": {},
   "source": [
    "### ICGC Data\n",
    "<p> Similar steps to above </p>"
   ]
  },
  {
   "cell_type": "code",
   "execution_count": 143,
   "id": "25d1a318-3722-4d20-b3bc-a84e2de226e5",
   "metadata": {},
   "outputs": [],
   "source": [
    "clinicaldata = pd.read_csv(f\"Data/ICGCDataUnscaled/PDAC_ICGC_clinical.csv\", sep=',')\n",
    "mrna = pd.read_csv(f\"Data/ICGCDataUnscaled/PDAC_ICGC.csv\", sep=',')"
   ]
  },
  {
   "cell_type": "code",
   "execution_count": 144,
   "id": "a1c5fd80-b6a5-4308-826b-1264fd88a923",
   "metadata": {},
   "outputs": [],
   "source": [
    "# Create clinicaldata dataframe with the important features\n",
    "clinicalnew = clinicaldata[['icgc_donor_id',\n",
    "                            \"donor_vital_status\",\n",
    "                            \"donor_survival_time\"]]\n",
    "\n",
    "\n",
    "\n",
    "# Set missing data to NaN\n",
    "clinicalnew['donor_vital_status'] = clinicalnew['donor_vital_status'].replace(\"\", np.nan)\n",
    "\n",
    "# In vital_status set dead = 1 alive = 0\n",
    "clinicalnew['donor_vital_status'] = clinicalnew['donor_vital_status'].replace(\"deceased\", 1)\n",
    "clinicalnew[\"donor_vital_status\"] = clinicalnew['donor_vital_status'].replace(\"alive\", 0)\n",
    "\n",
    "# Set days to numeric values\n",
    "clinicalnew[\"donor_survival_time\"] = pd.to_numeric(clinicalnew[\"donor_survival_time\"])\n",
    "\n",
    "# Combine days to death and days to last follow up to create a total time.\n",
    "clinicalnew['time'] = clinicalnew['donor_survival_time']\n",
    "\n",
    "# Remove patients that have time 0 (so no follow up, just one recording)\n",
    "clinicalnew = clinicalnew[clinicalnew.time != 0]\n",
    "\n",
    "#Remove patients with nan for time\n",
    "clinicalnew = clinicalnew.dropna(subset=['time'])\n",
    "\n",
    "mrna.rename(columns={'Unnamed: 0': 'icgc_donor_id'}, inplace=True)\n",
    "mrna = mrna.set_index('icgc_donor_id')\n",
    "\n",
    "clinicalnew = clinicalnew.set_index('icgc_donor_id')"
   ]
  },
  {
   "cell_type": "code",
   "execution_count": 145,
   "id": "3885bba0-4760-4116-83eb-07b6ded19e90",
   "metadata": {},
   "outputs": [],
   "source": [
    "xv = mrna\n",
    "yv = clinicalnew"
   ]
  },
  {
   "cell_type": "code",
   "execution_count": 146,
   "id": "015acc1a-002e-4c39-9c37-a92858657920",
   "metadata": {},
   "outputs": [],
   "source": [
    "xv = xv.drop(['DO49201'])"
   ]
  },
  {
   "cell_type": "markdown",
   "id": "2cd0ba05-6965-4e14-84b3-6d513407bc67",
   "metadata": {},
   "source": [
    "### Match the genes in all 3 datasets to each other\n",
    "<p> We now have 3 datasets: A large multi-cancer dataset, a PDAC dataset, and a ICGC PDAC dataset. </p>\n",
    "<p>Here we make sure all datasets contain the same genes, and the order of the genes is the same </p>"
   ]
  },
  {
   "cell_type": "code",
   "execution_count": 147,
   "id": "4c255f8b-7773-4357-956c-ea3a9fe74c51",
   "metadata": {},
   "outputs": [],
   "source": [
    "columns = xt.columns.str.split(' / ')\n",
    "correct_columns = []\n",
    "for column in columns:\n",
    "    correct_columns.append(column[0])\n",
    "\n",
    "xt.columns = correct_columns"
   ]
  },
  {
   "cell_type": "code",
   "execution_count": 148,
   "id": "e69245fa-e247-4fd0-8a35-878bf2d0f8b5",
   "metadata": {},
   "outputs": [],
   "source": [
    "columns = xf.columns.str.split(' / ')\n",
    "correct_columns = []\n",
    "for column in columns:\n",
    "    correct_columns.append(column[0])\n",
    "\n",
    "xf.columns = correct_columns"
   ]
  },
  {
   "cell_type": "code",
   "execution_count": 149,
   "id": "3b02dccf-6e0d-40b9-904e-eb95114d2dc0",
   "metadata": {},
   "outputs": [],
   "source": [
    "labels_to_drop = xt.columns.difference(xv.columns)\n",
    "xt = xt.drop(labels=labels_to_drop,axis=1)"
   ]
  },
  {
   "cell_type": "code",
   "execution_count": 150,
   "id": "59925601-a7db-4a02-8a9a-dfa7e3789cc5",
   "metadata": {},
   "outputs": [],
   "source": [
    "xt = xt.loc[:,~xt.columns.duplicated()].copy()\n",
    "xf = xf.loc[:,~xf.columns.duplicated()].copy()"
   ]
  },
  {
   "cell_type": "code",
   "execution_count": 151,
   "id": "69e9e7b1-6091-4c42-b86a-8f66c391ec18",
   "metadata": {},
   "outputs": [],
   "source": [
    "xt = xt.drop(labels=(xt.columns.difference(xf.columns)),axis=1)\n",
    "xv = xv.drop(labels=(xv.columns.difference(xf.columns)),axis=1)\n",
    "xf = xf.drop(labels=(xf.columns.difference(xt.columns)),axis=1)"
   ]
  },
  {
   "cell_type": "markdown",
   "id": "49b5bacb-551a-4d55-a684-ae225f063dc2",
   "metadata": {},
   "source": [
    "Check if number of features/genes is the same"
   ]
  },
  {
   "cell_type": "code",
   "execution_count": 152,
   "id": "ab6fee5c-2ea4-4b0d-aa64-f4708742a204",
   "metadata": {
    "tags": []
   },
   "outputs": [
    {
     "name": "stdout",
     "output_type": "stream",
     "text": [
      "(143, 12668)\n",
      "(8685, 12668)\n",
      "(72, 12668)\n"
     ]
    }
   ],
   "source": [
    "print(xt.shape)\n",
    "print(xf.shape)\n",
    "print(xv.shape)"
   ]
  },
  {
   "cell_type": "code",
   "execution_count": 153,
   "id": "db3b0f73-1487-4724-b88f-210c81a28ed4",
   "metadata": {},
   "outputs": [],
   "source": [
    "xv = xv[xt.columns]\n",
    "xf = xf[xt.columns]"
   ]
  },
  {
   "cell_type": "markdown",
   "id": "5800cd7d-0b02-4298-8142-5ed8c4c98bbf",
   "metadata": {
    "tags": []
   },
   "source": [
    "### Multi-Cancer model\n",
    "\n",
    "><p> We first start with the multi-cancer model. <br>\n",
    "    We start by setting our inputs and labels to numpy format to be used by keras.<br>\n",
    "    </p>\n",
    "    "
   ]
  },
  {
   "cell_type": "code",
   "execution_count": 19,
   "id": "b4518466-0894-484c-9c4d-017b8902c96f",
   "metadata": {
    "tags": []
   },
   "outputs": [],
   "source": [
    "xf = xf.to_numpy()\n",
    "yf = clinicalf\n",
    "\n",
    "ytime = yf['time'].to_numpy()\n",
    "ystatus = yf['vital_status'].to_numpy()\n",
    "ystatusbool = yf['vital_status'].astype(np.bool)\n",
    "\n"
   ]
  },
  {
   "cell_type": "markdown",
   "id": "8c2898fb-196b-4c98-962a-92f088d7d1ef",
   "metadata": {},
   "source": [
    "<p> Here we set our quantiles and make new labels that assign a quantile to each patient. </p>"
   ]
  },
  {
   "cell_type": "code",
   "execution_count": 20,
   "id": "16ad9037-5460-4d78-a45c-b6fb1bda97e9",
   "metadata": {
    "tags": []
   },
   "outputs": [],
   "source": [
    "first_quantile = np.quantile(ytime,0.25)\n",
    "second_quantile = np.quantile(ytime,0.5)\n",
    "third_quantile = np.quantile(ytime,0.75)\n"
   ]
  },
  {
   "cell_type": "code",
   "execution_count": 21,
   "id": "e1eb430d-7161-4630-8b5d-a5619664742c",
   "metadata": {
    "tags": []
   },
   "outputs": [
    {
     "name": "stdout",
     "output_type": "stream",
     "text": [
      "64.0\n",
      "268.0\n",
      "842.0\n"
     ]
    }
   ],
   "source": [
    "print(first_quantile)\n",
    "print(second_quantile)\n",
    "print(third_quantile)"
   ]
  },
  {
   "cell_type": "code",
   "execution_count": 22,
   "id": "2d4f2895-c3b7-4520-9ee6-66449fcc5807",
   "metadata": {
    "tags": []
   },
   "outputs": [],
   "source": [
    "yquantile = []\n",
    "for time in ytime:\n",
    "    if time >= 0 and time < first_quantile:\n",
    "        yquantile.append(1)\n",
    "    elif time >= first_quantile and time < second_quantile:\n",
    "        yquantile.append(2)\n",
    "    elif time >= second_quantile and time < third_quantile:\n",
    "        yquantile.append(3)\n",
    "    elif time >= third_quantile:\n",
    "        yquantile.append(4)\n"
   ]
  },
  {
   "cell_type": "code",
   "execution_count": 25,
   "id": "f5f36db2-6982-405a-9832-7dbcd0bd3f9d",
   "metadata": {
    "tags": []
   },
   "outputs": [
    {
     "name": "stdout",
     "output_type": "stream",
     "text": [
      "332\n",
      "1197\n"
     ]
    }
   ],
   "source": [
    "number_of_events = (yf.vital_status == 1).sum()\n",
    "number_of_nonevents = (yf.vital_status == 0).sum()\n",
    "\n",
    "print(number_of_events)\n",
    "print(number_of_nonevents)"
   ]
  },
  {
   "cell_type": "markdown",
   "id": "b6151ec8-bdc1-4d0e-93d2-d89932a01fb2",
   "metadata": {
    "tags": []
   },
   "source": [
    "### Set time interval for nnet survival custom loss function"
   ]
  },
  {
   "cell_type": "markdown",
   "id": "200047eb-5180-4259-b8f1-1b2bf92c5cde",
   "metadata": {
    "tags": []
   },
   "source": [
    "><p>The time intervals should be set so that for every interval an equal amount of events occur. This is done with matplotlib and manually adjusting the bins untill you see an equal number of events per interval</p>"
   ]
  },
  {
   "cell_type": "code",
   "execution_count": 111,
   "id": "eac9e753-04b4-48b8-8ec8-79c882e5f05a",
   "metadata": {
    "tags": []
   },
   "outputs": [
    {
     "data": {
      "text/plain": [
       "(array([17., 17., 16., 17., 16., 17., 15., 15., 17., 16., 17., 17., 16.,\n",
       "        16., 16., 17., 18., 18., 17., 17.]),\n",
       " array([   0,   40,   98,  153,  180,  240,  280,  330,  370,  428,  495,\n",
       "         580,  660,  750,  860,  990, 1170, 1400, 1660, 2100, 5000]),\n",
       " <BarContainer object of 20 artists>)"
      ]
     },
     "execution_count": 111,
     "metadata": {},
     "output_type": "execute_result"
    },
    {
     "data": {
      "image/png": "[encoded data removed]",
      "text/plain": [
       "<Figure size 432x288 with 1 Axes>"
      ]
     },
     "metadata": {
      "needs_background": "light"
     },
     "output_type": "display_data"
    }
   ],
   "source": [
    "import matplotlib.pyplot as plt\n",
    "\n",
    "test = yf.loc[yf['vital_status'] == 1]\n",
    "\n",
    "plt.hist(test['time'], bins=[0,40,98,153,180,240,280,330,370,428,495,580,660,750,860,990,1170,1400,1660,2100,5000],ec='black')\n",
    "#plt.hist(ytime, bins=range(0,7100,50),ec='black',color='orange')\n",
    "#[0,55,100,135,180,240,260,322,370,430,455,520,580,620,730,840,970,1140,1350,1590,1900,2540,9200]"
   ]
  },
  {
   "cell_type": "markdown",
   "id": "c93e91a5-74b3-46e4-9797-dc38bc08ef0e",
   "metadata": {},
   "source": [
    "><p> Here we set our time intervals and create the survival matrix used by the nnet-survival model </p>"
   ]
  },
  {
   "cell_type": "code",
   "execution_count": 113,
   "id": "8f8bf42e-6f86-4c60-b437-fc1bb0ee0b1a",
   "metadata": {
    "tags": []
   },
   "outputs": [],
   "source": [
    "#breaks=np.asarray([0,55,100,135,180,240,260,322,370,430,455,520,580,620,730,840,970,1140,1350,1590,1900,2540,9200])\n",
    "breaks=np.asarray([0,40,98,153,180,240,280,330,370,428,495,580,660,750,860,990,1170,1400,1660,2100,5000])\n",
    "n_intervals = len(breaks) - 1\n",
    "timegap = breaks[1:] - breaks[:-1]"
   ]
  },
  {
   "cell_type": "code",
   "execution_count": 114,
   "id": "2b984456-6dd5-4ccb-9a9e-6ecd4f74f8d7",
   "metadata": {
    "tags": []
   },
   "outputs": [
    {
     "name": "stdout",
     "output_type": "stream",
     "text": [
      "20\n"
     ]
    }
   ],
   "source": [
    "print(n_intervals)"
   ]
  },
  {
   "cell_type": "code",
   "execution_count": 115,
   "id": "ea30958b-ff3a-4676-8bf4-fb887f8d386d",
   "metadata": {
    "tags": []
   },
   "outputs": [],
   "source": [
    "import nnet_survival\n",
    "\n",
    "yf = nnet_survival.make_surv_array(ytime, ystatus, breaks)\n"
   ]
  },
  {
   "cell_type": "markdown",
   "id": "67ca6cb1-5358-4e6c-9e54-9fee5f986722",
   "metadata": {},
   "source": [
    "><p> This step adds the status and quantile labels to our survival matrix <br>\n",
    "This is used only with our 5-fold CV hyperparameter optimization</p>"
   ]
  },
  {
   "cell_type": "code",
   "execution_count": 116,
   "id": "f49ad0c5-2f30-40d2-9a6f-3db531919ab4",
   "metadata": {
    "tags": []
   },
   "outputs": [],
   "source": [
    "yf_final = ([],[])\n",
    "\n",
    "for matrix,status,quantile in zip(yf,ystatus,yquantile):\n",
    "    yf_final[0].append(matrix)\n",
    "    status_quantile = (str(int(status)) + \"_\" + str(quantile))\n",
    "    yf_final[1].append(status_quantile)\n",
    "\n",
    "\n"
   ]
  },
  {
   "cell_type": "markdown",
   "id": "2014c878-582f-4139-8d08-cd38b4cdbe7e",
   "metadata": {
    "tags": []
   },
   "source": [
    "## Custom class for hypermodel + concordance index function\n",
    "<p> This are 2 custom classes, one being a hypermodel that is built by our hyperparameter tuner, and where you can add variable parameters which will be tested. <br>\n",
    "The other is a custom hyper parameter tuner that utilizes cross validation.</p>"
   ]
  },
  {
   "cell_type": "code",
   "execution_count": 87,
   "id": "cfd29e6a-4b2a-4bee-959c-715f0ff251ca",
   "metadata": {
    "tags": []
   },
   "outputs": [],
   "source": [
    "from keras_tuner import HyperModel\n",
    "from tensorflow.keras.metrics import Metric\n",
    "import tensorflow.keras.backend as K\n",
    "import keras_tuner\n",
    "\n",
    "\n",
    "class SurvivalHyperModel(HyperModel):\n",
    "    def __init__(self, n_intervals, weights=[]):\n",
    "        self.n_intervals = n_intervals\n",
    "        self.weights = weights\n",
    "    def build(self, hp):\n",
    "        model = Sequential()\n",
    "        hp_l2_value = hp.Choice('l2_value', values=[0.01,0.001,0.0001,0.00001])\n",
    "        model.add(Dense(np.sqrt(xf.shape[1]), input_dim=xf.shape[1], bias_initializer='zeros',activation='relu', kernel_regularizer=regularizers.l2(hp_l2_value)))\n",
    "        # model.add(Dense(np.sqrt(xf.shape[1]), input_dim=xf.shape[1], bias_initializer='zeros',activation='relu'))\n",
    "        #hp_dropout_rate_1 = hp.Choice('dropout_rate1', values=[0.1,0.2,0.3,0.4,0.5,0.6,0.7,0.8,0.9])\n",
    "        #model.add(Dropout(0.9))\n",
    "        model.add(Dense(1, use_bias=0, kernel_initializer='zeros'))\n",
    "        model.add(nnet_survival.PropHazards(self.n_intervals))\n",
    "        #hp_learning_rate = hp.Choice('learning_rate1', values=[0.00001,0.0001,0.001])\n",
    "        model.compile(loss=nnet_survival.surv_likelihood(self.n_intervals), optimizer=optimizers.Adam(learning_rate=0.00001),run_eagerly=False)\n",
    "        if self.weights:\n",
    "            model.layers[0].set_weights(self.weights)\n",
    "            return model\n",
    "        else:\n",
    "            return model\n",
    "    def fit(self, hp, model, *args, **kwargs):\n",
    "        return model.fit(*args,\n",
    "                         shuffle=False,\n",
    "                         **kwargs,\n",
    "                        )\n",
    "    \n",
    "\n",
    "class CVTuner(keras_tuner.engine.tuner.Tuner):\n",
    "    def run_trial(self, trial, x, y,epochs=1, *args, **kwargs):\n",
    "        skf = StratifiedKFold(n_splits=5, shuffle=False)\n",
    "        skf.get_n_splits(x,y[1])\n",
    "        val_losses = []\n",
    "        kwargs['batch_size'] = trial.hyperparameters.Choice('batch_size', values=[8,16])\n",
    "        fold = 1\n",
    "        hp = trial.hyperparameters\n",
    "        for train_indices, test_indices in skf.split(x,y[1]):\n",
    "            early_stopping_hp = EarlyStopping(monitor='val_loss', patience=(100),min_delta=0.0005, restore_best_weights=True)\n",
    "            dir_for_logs = (\"Logs/ktuner/logs_pdac_21/\" + str(trial.trial_id) + \"/fold_\" + str(fold))\n",
    "            tensorboard_callback = tf.keras.callbacks.TensorBoard(log_dir=dir_for_logs, histogram_freq=0, embeddings_freq=0, write_graph=False, update_freq='batch')\n",
    "            callbacks_list = [early_stopping_hp,tensorboard_callback]\n",
    "            x_train, x_test = x[train_indices], x[test_indices]\n",
    "            y_train, y_test = np.array(y[0])[train_indices], np.array(y[0])[test_indices]\n",
    "            y_train_labels, y_test_labels = np.array(y[1])[train_indices], np.array(y[1])[test_indices]\n",
    "            model = self.hypermodel.build(hp)\n",
    "            model.fit(x_train, y_train,validation_data=(x_test,y_test), batch_size=kwargs['batch_size'], epochs=epochs, callbacks=callbacks_list, verbose=0)\n",
    "            #model.fit(x_train, y_train,validation_data=(x_test,y_test), batch_size=8, epochs=epochs, callbacks=callbacks_list, verbose=0)            \n",
    "            y_pred = model.predict(x_test, verbose=0)\n",
    "            surv_prob=np.cumprod(y_pred, axis=1)[:,-1]\n",
    "            val_losses.append(model.evaluate(x_test, y_test))\n",
    "            fold += 1\n",
    "        self.oracle.update_trial(trial.trial_id, {'val_loss': np.mean(val_losses)})\n",
    "        #self.save_model(trial.trial_id, model)\n",
    "\n",
    "    "
   ]
  },
  {
   "cell_type": "markdown",
   "id": "ec0fec9e-0dc2-4273-ae32-dcdac067294b",
   "metadata": {
    "tags": []
   },
   "source": [
    "### Hyperparameter optimization and training of the multi-cancer model"
   ]
  },
  {
   "cell_type": "markdown",
   "id": "c04c1d1a-4d64-4604-975d-d1e0baf434b4",
   "metadata": {
    "tags": []
   },
   "source": [
    "<p> In this section of code the hyperparameter tuning of the multi-cancer model occurs. <br>\n",
    "    The Hyperparameters are tuned on the whole datasets, and the results can be viewed with tensorboard. </p>"
   ]
  },
  {
   "cell_type": "code",
   "execution_count": null,
   "id": "c28b89c1-b01c-47b3-a802-570278fe83a1",
   "metadata": {
    "tags": []
   },
   "outputs": [],
   "source": [
    "importlib.reload(nnet_survival)\n",
    "\n",
    "os.environ['TF_CPP_MIN_LOG_LEVEL'] = '2'\n",
    "os.environ['TF_FORCE_GPU_ALLOW_GROWTH'] = 'true'\n",
    "\n",
    "scaler = MinMaxScaler()\n",
    "xf_t = scaler.fit_transform(xf)\n",
    "\n",
    "### logfile - Filename in which the results will be stored of the hyperparameter tuning.\n",
    "###           Call this file with Tensorboard to view loss curves and hyperparameter tuning results.\n",
    "###\n",
    "### name_of_project - Name of the Keras Tuner project.\n",
    "###                   Make sure this is different if you want to try a new search, else it will \n",
    "###                   just give you the results of the project previous project that had the same name\n",
    "###\n",
    "### name_of_dir - Directory where projects will be stored.\n",
    "\n",
    "logfile = \"Logs/ktuner/logs_pretrain_9_5/\"\n",
    "name_of_project = \"pretrain_model_9_5\"\n",
    "name_of_dir = \"pretrain_model_dir\"\n",
    "                                                \n",
    "tuner = CVTuner(\n",
    "    hypermodel=SurvivalHyperModel(n_intervals),\n",
    "    project_name=name_of_project,\n",
    "    directory=name_of_dir,\n",
    "    logger = TensorBoardLogger(metrics=[\"val_loss\"], logdir=logfile),\n",
    "    oracle=kt.oracles.BayesianOptimization(\n",
    "        objective='val_loss',\n",
    "        max_trials=10))\n",
    "tuner.search(xf_t,yf_final,epochs=40000,verbose=1)\n",
    "\n",
    "\n"
   ]
  },
  {
   "cell_type": "markdown",
   "id": "a5b0c26e-8a6a-41ea-a5cc-c4e1bd3b6265",
   "metadata": {},
   "source": [
    "><p> Now the model is ran using the optimal parameters found in the previous step </p>"
   ]
  },
  {
   "cell_type": "code",
   "execution_count": 117,
   "id": "a94cb9fd-8414-4d6e-ac55-8324b8b141e6",
   "metadata": {},
   "outputs": [
    {
     "name": "stderr",
     "output_type": "stream",
     "text": [
      "2022-12-06 10:22:09.975449: I tensorflow/stream_executor/cuda/cuda_gpu_executor.cc:975] successful NUMA node read from SysFS had negative value (-1), but there must be at least one NUMA node, so returning NUMA node zero\n",
      "2022-12-06 10:22:10.080107: I tensorflow/stream_executor/cuda/cuda_gpu_executor.cc:975] successful NUMA node read from SysFS had negative value (-1), but there must be at least one NUMA node, so returning NUMA node zero\n",
      "2022-12-06 10:22:10.081072: I tensorflow/stream_executor/cuda/cuda_gpu_executor.cc:975] successful NUMA node read from SysFS had negative value (-1), but there must be at least one NUMA node, so returning NUMA node zero\n",
      "2022-12-06 10:22:10.095991: I tensorflow/core/platform/cpu_feature_guard.cc:193] This TensorFlow binary is optimized with oneAPI Deep Neural Network Library (oneDNN) to use the following CPU instructions in performance-critical operations:  AVX2 AVX512F FMA\n",
      "To enable them in other operations, rebuild TensorFlow with the appropriate compiler flags.\n",
      "2022-12-06 10:22:10.098066: I tensorflow/stream_executor/cuda/cuda_gpu_executor.cc:975] successful NUMA node read from SysFS had negative value (-1), but there must be at least one NUMA node, so returning NUMA node zero\n",
      "2022-12-06 10:22:10.099085: I tensorflow/stream_executor/cuda/cuda_gpu_executor.cc:975] successful NUMA node read from SysFS had negative value (-1), but there must be at least one NUMA node, so returning NUMA node zero\n",
      "2022-12-06 10:22:10.100035: I tensorflow/stream_executor/cuda/cuda_gpu_executor.cc:975] successful NUMA node read from SysFS had negative value (-1), but there must be at least one NUMA node, so returning NUMA node zero\n",
      "2022-12-06 10:22:12.301552: I tensorflow/stream_executor/cuda/cuda_gpu_executor.cc:975] successful NUMA node read from SysFS had negative value (-1), but there must be at least one NUMA node, so returning NUMA node zero\n",
      "2022-12-06 10:22:12.302567: I tensorflow/stream_executor/cuda/cuda_gpu_executor.cc:975] successful NUMA node read from SysFS had negative value (-1), but there must be at least one NUMA node, so returning NUMA node zero\n",
      "2022-12-06 10:22:12.303563: I tensorflow/stream_executor/cuda/cuda_gpu_executor.cc:975] successful NUMA node read from SysFS had negative value (-1), but there must be at least one NUMA node, so returning NUMA node zero\n",
      "2022-12-06 10:22:12.304411: I tensorflow/core/common_runtime/gpu/gpu_device.cc:1532] Created device /job:localhost/replica:0/task:0/device:GPU:0 with 13823 MB memory:  -> device: 0, name: Tesla T4, pci bus id: 0000:00:04.0, compute capability: 7.5\n"
     ]
    },
    {
     "name": "stdout",
     "output_type": "stream",
     "text": [
      "C_index: 0.9803412159397757\n"
     ]
    }
   ],
   "source": [
    "importlib.reload(nnet_survival)\n",
    "\n",
    "optimal_l2 = 0.01\n",
    "optimal_batch = 16\n",
    "\n",
    "scaler = MinMaxScaler()\n",
    "xf_t = scaler.fit_transform(xf)\n",
    "\n",
    "\n",
    "yf = np.array(yf_final[0])\n",
    "\n",
    "\n",
    "optimal_model = Sequential()\n",
    "optimal_model.add(Dense(np.sqrt(xf.shape[1]), input_dim=xf.shape[1], bias_initializer='zeros',activation='relu',kernel_regularizer=regularizers.l2(optimal_l2)))\n",
    "optimal_model.add(Dense(1, use_bias=0, kernel_initializer='zeros'))\n",
    "optimal_model.add(nnet_survival.PropHazards(n_intervals))\n",
    "opt = optimizers.Adam(learning_rate=0.00001)\n",
    "optimal_model.compile(loss=nnet_survival.surv_likelihood(n_intervals), optimizer=opt)\n",
    "\n",
    "\n",
    "#early_stopping = EarlyStopping(monitor='val_loss', patience=100, min_delta=0.001, restore_best_weights=True)\n",
    "dir_for_log = (\"Logs/ktuner/logs_pretrain_subset\")\n",
    "tensorboard_callback = tf.keras.callbacks.TensorBoard(log_dir=dir_for_log, histogram_freq=0, embeddings_freq=0, write_graph=False, update_freq='batch')\n",
    "callbacks_list = [tensorboard_callback]\n",
    "\n",
    "history = optimal_model.fit(xf_t,yf,batch_size=optimal_batch,epochs=1200, callbacks=callbacks_list,verbose=0)\n",
    "\n",
    "optimal_model.save_weights(\"Weights/CoxTnnet_pretrain_weights_subset\")   \n",
    "\n",
    "# print(\"Performance model on full dataset (very optimistic):\")\n",
    "y_pred = optimal_model.predict(xf_t, verbose=0)\n",
    "oneyr_surv = np.cumprod(y_pred[:, 0:np.nonzero(breaks > 365)[0][0]], axis=1)[:, -1]\n",
    "c_index_test = concordance_index(ytime, oneyr_surv, ystatus)\n",
    "print(\"C_index: \" + str(c_index_test))\n"
   ]
  },
  {
   "cell_type": "markdown",
   "id": "4c74a5e0-6b2e-49ae-b048-34a67921cf4e",
   "metadata": {
    "tags": []
   },
   "source": [
    "\n",
    "### Data preperation TCGA PDAC\n",
    "<p> Same steps as for the multi-cancer data.<br>\n",
    "    Make sure there similar amounts of death events per time interval. </p>"
   ]
  },
  {
   "cell_type": "code",
   "execution_count": 154,
   "id": "c66b21b5-769c-464d-850a-bba1fca4d8a5",
   "metadata": {},
   "outputs": [],
   "source": [
    "xt = xt.to_numpy()\n",
    "#\n",
    "ytime = yt['time'].to_numpy()\n",
    "ystatus = yt['vital_status'].to_numpy()\n",
    "ystatusbool = yt['vital_status'].astype(np.bool).to_numpy()\n"
   ]
  },
  {
   "cell_type": "code",
   "execution_count": 119,
   "id": "806428f3-86aa-48d8-a9de-0b8728d909fb",
   "metadata": {
    "jupyter": {
     "source_hidden": true
    },
    "tags": []
   },
   "outputs": [
    {
     "data": {
      "text/plain": [
       "(array([15., 14., 15., 15., 14., 13., 14., 14., 14., 15.]),\n",
       " array([   0,   17,   70,  130,  180,  230,  300,  400,  580,  730, 2200]),\n",
       " <BarContainer object of 10 artists>)"
      ]
     },
     "execution_count": 119,
     "metadata": {},
     "output_type": "execute_result"
    },
    {
     "data": {
      "image/png": "[encoded data removed]",
      "text/plain": [
       "<Figure size 432x288 with 1 Axes>"
      ]
     },
     "metadata": {
      "needs_background": "light"
     },
     "output_type": "display_data"
    }
   ],
   "source": [
    "import matplotlib.pyplot as plt\n",
    "\n",
    "test = yt.loc[yt['vital_status'] == 1]\n",
    "\n",
    "#20 time intervals\n",
    "#plt.hist(test['time'], bins=[0,100,120,125,130,150,217,240,280,280,380,460,475,486,565,605,650,690,730,1300,2200],ec='black')\n",
    "#10 time intervals\n",
    "#plt.hist(yt['time'], bins=[0,110,130,190,250,310,475,550,650,730,2200],ec='black')\n",
    "plt.hist(yt['time'], bins=[0,17,70,130,180,230,300,400,580,730,2200],ec='black')"
   ]
  },
  {
   "cell_type": "code",
   "execution_count": 155,
   "id": "10a6ee66-d274-4cb9-9ab0-1db528e4a6a1",
   "metadata": {},
   "outputs": [],
   "source": [
    "breaks=np.array([0,110,130,190,250,310,475,550,650,730,2200])\n",
    "n_intervals = len(breaks) - 1\n",
    "timegap = breaks[1:] - breaks[:-1]"
   ]
  },
  {
   "cell_type": "code",
   "execution_count": null,
   "id": "60d564d2-ba07-4b53-8d37-5519ab93b926",
   "metadata": {},
   "outputs": [
    {
     "name": "stdout",
     "output_type": "stream",
     "text": [
      "10\n"
     ]
    }
   ],
   "source": [
    "print(n_intervals)"
   ]
  },
  {
   "cell_type": "code",
   "execution_count": 156,
   "id": "ebd2499f-79f5-4138-b47f-1aa15447eaad",
   "metadata": {},
   "outputs": [],
   "source": [
    "y_t = nnet_survival.make_surv_array(ytime, ystatus, breaks)"
   ]
  },
  {
   "cell_type": "code",
   "execution_count": 157,
   "id": "8960c527-70b4-4b76-9049-d9db7163899b",
   "metadata": {},
   "outputs": [
    {
     "name": "stdout",
     "output_type": "stream",
     "text": [
      "110.0\n",
      "228.0\n",
      "482.5\n"
     ]
    }
   ],
   "source": [
    "first_quantile = np.quantile(ytime,0.25)\n",
    "second_quantile = np.quantile(ytime,0.5)\n",
    "third_quantile = np.quantile(ytime,0.75)\n",
    "\n",
    "print(first_quantile)\n",
    "print(second_quantile)\n",
    "print(third_quantile)"
   ]
  },
  {
   "cell_type": "code",
   "execution_count": 158,
   "id": "6df28d9c-9183-47d0-9165-52463e52e46e",
   "metadata": {},
   "outputs": [],
   "source": [
    "yquantile = []\n",
    "for time in ytime:\n",
    "    if time >= 0 and time < first_quantile:\n",
    "        yquantile.append(1)\n",
    "    elif time >= first_quantile and time < second_quantile:\n",
    "        yquantile.append(2)\n",
    "    elif time >= second_quantile and time < third_quantile:\n",
    "        yquantile.append(3)\n",
    "    elif time >= third_quantile:\n",
    "        yquantile.append(4)\n"
   ]
  },
  {
   "cell_type": "code",
   "execution_count": 159,
   "id": "55b13e65-b4a9-4c6b-83ba-b277798617af",
   "metadata": {},
   "outputs": [],
   "source": [
    "yt_final = ([],[])\n",
    "\n",
    "for matrix,status,quantile in zip(y_t,ystatus,yquantile):\n",
    "    yt_final[0].append(matrix)\n",
    "    status_quantile = (str(int(status)) + \"_\" + str(quantile))\n",
    "    yt_final[1].append(status_quantile)"
   ]
  },
  {
   "cell_type": "markdown",
   "id": "0f4e3dbe-e3c7-4527-a708-1b20467eac49",
   "metadata": {},
   "source": [
    "### Data preperation ICGC \n",
    "<p> Same steps as TCGA data, again make sure there are similar amounts of death events per time interval. </p>\n"
   ]
  },
  {
   "cell_type": "code",
   "execution_count": 160,
   "id": "29e0b085-5737-4a38-aff8-e70ea1ac1b11",
   "metadata": {},
   "outputs": [],
   "source": [
    "xv = xv.to_numpy()\n",
    "\n",
    "yvtime = yv['time'].to_numpy()\n",
    "yvstatus = yv['donor_vital_status'].to_numpy()\n",
    "\n",
    "\n"
   ]
  },
  {
   "cell_type": "code",
   "execution_count": null,
   "id": "c80ad422-9661-4299-a6d7-527f599604f8",
   "metadata": {
    "tags": []
   },
   "outputs": [],
   "source": [
    "import matplotlib.pyplot as plt\n",
    "\n",
    "test = yv.loc[yv['donor_vital_status'] == 1]\n",
    "\n",
    "plt.hist(test['time'], bins=[0,165,230,260,345,390,425,460,600,1100,1880],ec='black')"
   ]
  },
  {
   "cell_type": "code",
   "execution_count": null,
   "id": "b1372454-6e2c-4fc1-a8c7-73b18abe5f79",
   "metadata": {},
   "outputs": [],
   "source": [
    "vbreaks = np.array([0,165,230,260,345,390,425,460,600,1100,1880])"
   ]
  },
  {
   "cell_type": "code",
   "execution_count": 161,
   "id": "1929b9dd-10f2-40be-a043-ddf8a0675646",
   "metadata": {},
   "outputs": [],
   "source": [
    "y_v = nnet_survival.make_surv_array(yvtime, yvstatus, vbreaks)"
   ]
  },
  {
   "cell_type": "code",
   "execution_count": 162,
   "id": "3998e33f-a14c-4319-90d6-4d3ef9421263",
   "metadata": {},
   "outputs": [
    {
     "name": "stdout",
     "output_type": "stream",
     "text": [
      "255.5\n",
      "413.5\n",
      "719.5\n"
     ]
    }
   ],
   "source": [
    "first_quantile_v = np.quantile(yvtime,0.25)\n",
    "second_quantile_v = np.quantile(yvtime,0.5)\n",
    "third_quantile_v = np.quantile(yvtime,0.75)\n",
    "\n",
    "print(first_quantile_v)\n",
    "print(second_quantile_v)\n",
    "print(third_quantile_v)"
   ]
  },
  {
   "cell_type": "code",
   "execution_count": 163,
   "id": "426f383e-a1a6-4999-bac9-2091a64c70fc",
   "metadata": {},
   "outputs": [],
   "source": [
    "yvquantile = []\n",
    "for time in yvtime:\n",
    "    if time >= 0 and time < first_quantile_v:\n",
    "        yvquantile.append(1)\n",
    "    elif time >= first_quantile_v and time < second_quantile_v:\n",
    "        yvquantile.append(2)\n",
    "    elif time >= second_quantile_v and time < third_quantile_v:\n",
    "        yvquantile.append(3)\n",
    "    elif time >= third_quantile_v:\n",
    "        yvquantile.append(4)"
   ]
  },
  {
   "cell_type": "code",
   "execution_count": 164,
   "id": "23b17c52-a269-43c0-8b4f-0ed7a7e46471",
   "metadata": {},
   "outputs": [],
   "source": [
    "yv_final = ([],[])\n",
    "\n",
    "for matrix,status,quantile in zip(y_v,yvstatus,yvquantile):\n",
    "    yv_final[0].append(matrix)\n",
    "    status_quantile = (str(int(status)) + \"_\" + str(quantile))\n",
    "    yv_final[1].append(status_quantile)"
   ]
  },
  {
   "cell_type": "markdown",
   "id": "e96a7688-0c02-4bc2-95a5-535d5626b1f1",
   "metadata": {},
   "source": [
    "### Custom C-index class\n",
    "<p> This class can be passed as a callback which will calculate the C-index for train/validation data during training. </p>"
   ]
  },
  {
   "cell_type": "code",
   "execution_count": 26,
   "id": "86b261f6-9001-4dfe-a960-fedac9f11ac4",
   "metadata": {
    "tags": []
   },
   "outputs": [],
   "source": [
    "class cindex(tf.keras.callbacks.Callback):\n",
    "\n",
    "    def __init__(self, train, validation=None):\n",
    "        super(cindex, self).__init__()\n",
    "        self.validation = validation\n",
    "        self.train = train\n",
    "        \n",
    "    def on_epoch_end(self, epoch, logs={}):\n",
    "        logs['cindex_score_train'] = float('-inf')\n",
    "        x_train, y_train, ytime_train, ystatus_train = self.train[0], self.train[1], self.train[2], self.train[3]\n",
    "        y_pred = nnet_survival.nnet_pred_surv(model.predict(x_train,verbose=0), breaks, 365)\n",
    "        score = concordance_index(ytime_train, y_pred, ystatus_train)\n",
    "        \n",
    "        if (self.validation):\n",
    "            logs['cindex_score_val'] = float('-inf')\n",
    "            x_val, y_val, y_time_val, ystatus_val  = self.validation[0], self.validation[1], self.validation[2], self.validation[3]\n",
    "            y_pred = nnet_survival.nnet_pred_surv(model.predict(x_val,verbose=0), breaks, 365)\n",
    "            val_score = concordance_index(ytime_val, y_pred, ystatus_val)\n",
    "            logs['cindex_score_train'] = score\n",
    "            logs['cindex_score_val'] = val_score\n",
    "        else:\n",
    "            logs['cindex_score_train'] = score\n",
    "    "
   ]
  },
  {
   "cell_type": "markdown",
   "id": "4d15ca77-6487-4ac4-90b7-a0f484b31f17",
   "metadata": {},
   "source": [
    "### Run TCGA PDAC model just once and store weights"
   ]
  },
  {
   "cell_type": "code",
   "execution_count": 101,
   "id": "c9109b96-8a04-4032-900a-560efb0d3288",
   "metadata": {},
   "outputs": [],
   "source": [
    "importlib.reload(nnet_survival)\n",
    "\n",
    "### DATA SCALING\n",
    "scaler = MinMaxScaler()\n",
    "xt_t = scaler.fit_transform(xt)\n",
    "\n",
    "### SET PARAMETERS\n",
    "optimal_l2 = 0.00001\n",
    "optimal_batch = 8\n",
    "\n",
    "### CREATE MODEL\n",
    "model = Sequential()\n",
    "model.add(Dense(np.sqrt(xt.shape[1]), input_dim=xt.shape[1], bias_initializer='zeros',activation='relu',kernel_regularizer=regularizers.l2(optimal_l2)))\n",
    "model.add(Dense(1, use_bias=0, kernel_initializer='zeros'))\n",
    "model.add(nnet_survival.PropHazards(n_intervals))\n",
    "model.compile(loss=nnet_survival.surv_likelihood(n_intervals), optimizer=optimizers.Adam(learning_rate=0.000001))\n",
    "\n",
    "### TENSORBOARD CALLBACK FOR LOGS\n",
    "tensorboard_callback = tf.keras.callbacks.TensorBoard(log_dir=(\"ktuner/logs_pdac_once_notransfer\"), histogram_freq=0, embeddings_freq=0, write_graph=False, update_freq='batch')\n",
    "callbacks_list = [tensorboard_callback]\n",
    "\n",
    "### FIT MODEL ON FULL PDAC DATASET\n",
    "history = model.fit(xt_t,y_t,batch_size=optimal_batch,epochs=2600, callbacks=callbacks_list,verbose=0) \n",
    "\n",
    "### SAVE MODEL WEIGHTS\n",
    "model.save_weights(\"Weights_all/CoxTnnet_pdac_notransfer\")  "
   ]
  },
  {
   "cell_type": "markdown",
   "id": "e22776cc-fdb7-400e-b93b-3665145365a8",
   "metadata": {},
   "source": [
    "### Run TCGA PDAC Model with transferred weights from Multi-Cancer Model"
   ]
  },
  {
   "cell_type": "code",
   "execution_count": 133,
   "id": "770336c0-57d8-4404-960f-91ecc76eb9dc",
   "metadata": {},
   "outputs": [],
   "source": [
    "importlib.reload(nnet_survival)\n",
    "\n",
    "### DATA SCALING\n",
    "scaler = MinMaxScaler()\n",
    "xt_t = scaler.fit_transform(xt)\n",
    "\n",
    "### SET PARAMETERS\n",
    "optimal_l2 = 0.00001\n",
    "optimal_batch = 8\n",
    "\n",
    "### CREATE MODEL TO INITIALIZE WEIGHTS INTO\n",
    "init_model = Sequential()\n",
    "init_model.add(Dense(np.sqrt(xt.shape[1]), input_dim=xt.shape[1], bias_initializer='zeros', activation='relu',kernel_regularizer=regularizers.l2(0.01)))\n",
    "init_model.add(Dense(1, use_bias=0, kernel_initializer='zeros'))\n",
    "init_model.add(nnet_survival.PropHazards(20))\n",
    "init_model.compile(loss=nnet_survival.surv_likelihood(20), optimizer=optimizers.Adam(learning_rate=0.00001))\n",
    "\n",
    "### LOAD WEIGHTS FROM MULTI-CANCER MODEL\n",
    "init_model.load_weights(\"Weights_all/CoxTnnet_pretrain_weights_subset\")\n",
    "\n",
    "\n",
    "### CREATE MODEL FOR FINE-TUNING\n",
    "model = Sequential()\n",
    "model.add(Dense(np.sqrt(xt.shape[1]), input_dim=xt.shape[1], bias_initializer='zeros',activation='relu',kernel_regularizer=regularizers.l2(optimal_l2)))\n",
    "model.add(Dense(1, use_bias=0, kernel_initializer='zeros'))\n",
    "model.add(nnet_survival.PropHazards(n_intervals))\n",
    "model.compile(loss=nnet_survival.surv_likelihood(n_intervals), optimizer=optimizers.Adam(learning_rate=0.000001))\n",
    "\n",
    "### TRANSFER WEIGHTS OF MULTI-CANCER MODEL\n",
    "model.layers[0].set_weights(init_model.layers[0].get_weights())\n",
    "\n",
    "### TENSORBOARD CALLBACK FOR LOGS\n",
    "tensorboard_callback = tf.keras.callbacks.TensorBoard(log_dir=(\"ktuner/logs_pdac_subset\"), histogram_freq=0, embeddings_freq=0, write_graph=False, update_freq='batch')\n",
    "callbacks_list = [tensorboard_callback]\n",
    "\n",
    "### FIT MODEL\n",
    "history = model.fit(xt_t,y_t,batch_size=optimal_batch,epochs=2600, callbacks=callbacks_list,verbose=0) \n",
    "\n",
    "### SAVE MODEL WEIGHTS\n",
    "model.save_weights(\"Weights_all/CoxTnnet_pdac_subset\")  "
   ]
  },
  {
   "cell_type": "markdown",
   "id": "6357fc7b-ab3e-4e18-a99a-3ac0fea2a3c4",
   "metadata": {},
   "source": [
    "### Train ICGC PDAC and validate with 5-fold CV"
   ]
  },
  {
   "cell_type": "code",
   "execution_count": 166,
   "id": "d3210d7c-00b8-4802-ba9d-1bf78d2a9453",
   "metadata": {},
   "outputs": [
    {
     "name": "stderr",
     "output_type": "stream",
     "text": [
      "/opt/conda/lib/python3.7/site-packages/sklearn/model_selection/_split.py:680: UserWarning: The least populated class in y has only 4 members, which is less than n_splits=5.\n",
      "  UserWarning,\n"
     ]
    },
    {
     "name": "stdout",
     "output_type": "stream",
     "text": [
      "fold: 1/50\n",
      "fold: 2/50\n",
      "fold: 3/50\n",
      "fold: 4/50\n",
      "fold: 5/50\n"
     ]
    },
    {
     "name": "stderr",
     "output_type": "stream",
     "text": [
      "/opt/conda/lib/python3.7/site-packages/sklearn/model_selection/_split.py:680: UserWarning: The least populated class in y has only 4 members, which is less than n_splits=5.\n",
      "  UserWarning,\n"
     ]
    },
    {
     "name": "stdout",
     "output_type": "stream",
     "text": [
      "fold: 6/50\n",
      "fold: 7/50\n",
      "fold: 8/50\n",
      "fold: 9/50\n",
      "fold: 10/50\n"
     ]
    },
    {
     "name": "stderr",
     "output_type": "stream",
     "text": [
      "/opt/conda/lib/python3.7/site-packages/sklearn/model_selection/_split.py:680: UserWarning: The least populated class in y has only 4 members, which is less than n_splits=5.\n",
      "  UserWarning,\n"
     ]
    },
    {
     "name": "stdout",
     "output_type": "stream",
     "text": [
      "fold: 11/50\n",
      "fold: 12/50\n",
      "fold: 13/50\n",
      "fold: 14/50\n",
      "fold: 15/50\n"
     ]
    },
    {
     "name": "stderr",
     "output_type": "stream",
     "text": [
      "/opt/conda/lib/python3.7/site-packages/sklearn/model_selection/_split.py:680: UserWarning: The least populated class in y has only 4 members, which is less than n_splits=5.\n",
      "  UserWarning,\n"
     ]
    },
    {
     "name": "stdout",
     "output_type": "stream",
     "text": [
      "fold: 16/50\n",
      "WARNING:tensorflow:Detecting that an object or model or tf.train.Checkpoint is being deleted with unrestored values. See the following logs for the specific values in question. To silence these warnings, use `status.expect_partial()`. See https://www.tensorflow.org/api_docs/python/tf/train/Checkpoint#restorefor details about the status object returned by the restore function.\n",
      "WARNING:tensorflow:Value in checkpoint could not be found in the restored object: (root).optimizer.iter\n",
      "WARNING:tensorflow:Value in checkpoint could not be found in the restored object: (root).optimizer.beta_1\n",
      "WARNING:tensorflow:Value in checkpoint could not be found in the restored object: (root).optimizer.beta_2\n",
      "WARNING:tensorflow:Value in checkpoint could not be found in the restored object: (root).optimizer.decay\n",
      "WARNING:tensorflow:Value in checkpoint could not be found in the restored object: (root).optimizer.learning_rate\n",
      "fold: 17/50\n",
      "fold: 18/50\n",
      "fold: 19/50\n",
      "fold: 20/50\n"
     ]
    },
    {
     "name": "stderr",
     "output_type": "stream",
     "text": [
      "/opt/conda/lib/python3.7/site-packages/sklearn/model_selection/_split.py:680: UserWarning: The least populated class in y has only 4 members, which is less than n_splits=5.\n",
      "  UserWarning,\n"
     ]
    },
    {
     "name": "stdout",
     "output_type": "stream",
     "text": [
      "fold: 21/50\n",
      "fold: 22/50\n",
      "fold: 23/50\n",
      "fold: 24/50\n",
      "fold: 25/50\n"
     ]
    },
    {
     "name": "stderr",
     "output_type": "stream",
     "text": [
      "/opt/conda/lib/python3.7/site-packages/sklearn/model_selection/_split.py:680: UserWarning: The least populated class in y has only 4 members, which is less than n_splits=5.\n",
      "  UserWarning,\n"
     ]
    },
    {
     "name": "stdout",
     "output_type": "stream",
     "text": [
      "fold: 26/50\n",
      "fold: 27/50\n",
      "fold: 28/50\n",
      "fold: 29/50\n",
      "fold: 30/50\n"
     ]
    },
    {
     "name": "stderr",
     "output_type": "stream",
     "text": [
      "/opt/conda/lib/python3.7/site-packages/sklearn/model_selection/_split.py:680: UserWarning: The least populated class in y has only 4 members, which is less than n_splits=5.\n",
      "  UserWarning,\n"
     ]
    },
    {
     "name": "stdout",
     "output_type": "stream",
     "text": [
      "fold: 31/50\n",
      "fold: 32/50\n",
      "fold: 33/50\n",
      "fold: 34/50\n",
      "fold: 35/50\n"
     ]
    },
    {
     "name": "stderr",
     "output_type": "stream",
     "text": [
      "/opt/conda/lib/python3.7/site-packages/sklearn/model_selection/_split.py:680: UserWarning: The least populated class in y has only 4 members, which is less than n_splits=5.\n",
      "  UserWarning,\n"
     ]
    },
    {
     "name": "stdout",
     "output_type": "stream",
     "text": [
      "fold: 36/50\n",
      "fold: 37/50\n",
      "fold: 38/50\n",
      "fold: 39/50\n",
      "fold: 40/50\n"
     ]
    },
    {
     "name": "stderr",
     "output_type": "stream",
     "text": [
      "/opt/conda/lib/python3.7/site-packages/sklearn/model_selection/_split.py:680: UserWarning: The least populated class in y has only 4 members, which is less than n_splits=5.\n",
      "  UserWarning,\n"
     ]
    },
    {
     "name": "stdout",
     "output_type": "stream",
     "text": [
      "fold: 41/50\n",
      "fold: 42/50\n",
      "fold: 43/50\n",
      "fold: 44/50\n",
      "fold: 45/50\n"
     ]
    },
    {
     "name": "stderr",
     "output_type": "stream",
     "text": [
      "/opt/conda/lib/python3.7/site-packages/sklearn/model_selection/_split.py:680: UserWarning: The least populated class in y has only 4 members, which is less than n_splits=5.\n",
      "  UserWarning,\n"
     ]
    },
    {
     "name": "stdout",
     "output_type": "stream",
     "text": [
      "fold: 46/50\n",
      "fold: 47/50\n",
      "fold: 48/50\n",
      "fold: 49/50\n",
      "fold: 50/50\n"
     ]
    }
   ],
   "source": [
    "importlib.reload(nnet_survival)\n",
    "\n",
    "### Set transfer_learning to True, if you want transfer learning, else set it too false\n",
    "transfer_learning = False\n",
    "\n",
    "### File which will store the C-indexes obtained\n",
    "results_file = \"Results/cindexes_icgc_exp1_nopdac\"\n",
    "\n",
    "cindex_list = []\n",
    "cindex_train_list = []\n",
    "\n",
    "total_cindexes = []\n",
    "total_cindexes_train = []\n",
    "\n",
    "### Set optimal parameters found with hyperparameter tuning\n",
    "optimal_l2 = 0.00001\n",
    "optimal_batch = 8\n",
    "\n",
    "if transfer_learning == True:\n",
    "    ### CREATE MODEL TO INITIALIZE WEIGHTS INTO ###\n",
    "    \n",
    "    init_model = Sequential()\n",
    "    init_model.add(Dense(np.sqrt(xt.shape[1]), input_dim=xt.shape[1], bias_initializer='zeros',activation='relu',kernel_regularizer=regularizers.l2(0.00001)))\n",
    "    init_model.add(Dense(1, use_bias=0, kernel_initializer='zeros'))\n",
    "    init_model.add(nnet_survival.PropHazards(10))\n",
    "    init_model.compile(loss=nnet_survival.surv_likelihood(10), optimizer=optimizers.Adam(learning_rate=0.000001))\n",
    "\n",
    "    ### LOAD WEIGHTS YOU WANT INTO MODEL ###\n",
    "\n",
    "    init_model.load_weights(\"Weights_all/CoxTnnet_pdac_subset\")\n",
    "\n",
    "### Create Repeated Stratified Kfold cross validation object\n",
    "\n",
    "rskf = RepeatedStratifiedKFold(n_splits=5, n_repeats=10, random_state=24)\n",
    "\n",
    "k = 1\n",
    "\n",
    "test_performance = []\n",
    "train_performance = []\n",
    "\n",
    "### ENTER REPEATED 5 FOLD CV\n",
    "for train_indices, test_indices in rskf.split(xv,yv_final[1]):\n",
    "    print(\"fold: \" + str(k) + \"/50\")\n",
    "    \n",
    "    ### MAKE SPLITS ###\n",
    "    x_train, x_test = xv[train_indices], xv[test_indices]\n",
    "    y_train, y_test = np.array(yv_final[0])[train_indices], np.array(yv_final[0])[test_indices]\n",
    "    y_train_labels, y_test_labels = np.array(yv_final[1])[train_indices], np.array(yv_final[1])[test_indices]\n",
    "    ystatus_train, ystatus_test = yvstatus[train_indices], yvstatus[test_indices]\n",
    "    ytime_train, ytime_test = yvtime[train_indices], yvtime[test_indices]\n",
    "\n",
    "    ## SCALE TRAIN AND TEST DATA ###\n",
    "    scaler = MinMaxScaler()\n",
    "    x_train_scaled = scaler.fit_transform(x_train)\n",
    "    x_test_scaled = scaler.transform(x_test)\n",
    "\n",
    "    ### CREATE MODEL TO TRAIN WITH ###\n",
    "    model = Sequential()\n",
    "    model.add(Dense(np.sqrt(xv.shape[1]), input_dim=xv.shape[1], bias_initializer='zeros',activation='relu',kernel_regularizer=regularizers.l2(optimal_l2)))\n",
    "    model.add(Dense(1, use_bias=0, kernel_initializer='zeros'))\n",
    "    model.add(nnet_survival.PropHazards(n_intervals))\n",
    "    model.compile(loss=nnet_survival.surv_likelihood(n_intervals), optimizer=optimizers.Adam(learning_rate=0.000001))\n",
    "\n",
    "    \n",
    "    if transfer_learning == True:\n",
    "        ### TRANSFER WEIGHTS TO MODEL TO TRAIN ###\n",
    "        model.layers[0].set_weights(init_model.layers[0].get_weights())\n",
    "\n",
    "    ### TENSORBOARD CALLBACK ###\n",
    "    tensorboard_callback = tf.keras.callbacks.TensorBoard(log_dir=(\"ktuner/logs_pdac_icgc_exp1_nopdac/fold_\" + str(k)), histogram_freq=0, embeddings_freq=0, write_graph=False, update_freq='batch')\n",
    "    callbacks_list = [tensorboard_callback]\n",
    "\n",
    "    ### TRAIN MODEL\n",
    "    history = model.fit(x_train_scaled,y_train,batch_size=optimal_batch,epochs=2600, callbacks=callbacks_list,verbose=0)\n",
    "\n",
    "\n",
    "    ### PREDICTIONS ON TRAIN AND TEST SET ###\n",
    "    y_pred = nnet_survival.nnet_pred_surv(model.predict(x_train_scaled,verbose=0), breaks, 365)\n",
    "    c_index_train = concordance_index(ytime_train, y_pred, ystatus_train)\n",
    "\n",
    "    y_pred = nnet_survival.nnet_pred_surv(model.predict(x_test_scaled,verbose=0), breaks, 365)\n",
    "    c_index_test = concordance_index(ytime_test, y_pred, ystatus_test)\n",
    "\n",
    "    train_performance.append(c_index_train)\n",
    "    test_performance.append(c_index_test)\n",
    "\n",
    "    total_cindexes.append(c_index_test)\n",
    "    total_cindexes_train.append(c_index_train)\n",
    "\n",
    "    ### SAVE RESULTS ###\n",
    "    with open(results_file, 'a') as o:\n",
    "        print(\"Fold: \" + str(k) + \"\\n\",file=o)\n",
    "        print(\"C-index train set: \" + str(c_index_train), file=o)\n",
    "        print(\"C-index test set: \" + str(c_index_test), file=o)\n",
    "        o.close()\n",
    "\n",
    "    k += 1\n",
    "\n",
    "with open(results_file, 'a') as o:\n",
    "    print(\"\\n\",file=o)\n",
    "    print(\"Average C-index train total: \" + str(sum(total_cindexes_train) / 50),file=o)\n",
    "    print(\"Average C-index test total: \" + str(sum(total_cindexes) / 50),file=o) \n",
    "    print(str(total_cindexes),file=o)\n",
    "    print(str(total_cindexes_train),file=o)\n",
    "    o.close()    "
   ]
  },
  {
   "cell_type": "markdown",
   "id": "7d7e827f-4bed-4898-8943-a74085f3f7df",
   "metadata": {
    "jupyter": {
     "source_hidden": true
    },
    "tags": []
   },
   "source": [
    "#### Train the model"
   ]
  },
  {
   "cell_type": "code",
   "execution_count": 32,
   "id": "c0ba3174-1eff-4b30-ac73-d46a3cc94053",
   "metadata": {
    "collapsed": true,
    "jupyter": {
     "outputs_hidden": true,
     "source_hidden": true
    },
    "scrolled": true,
    "tags": []
   },
   "outputs": [
    {
     "name": "stdout",
     "output_type": "stream",
     "text": [
      "Outer loop: 1\n",
      "[0.81276486 0.83473551 0.85889699 0.85044647 0.85432703 0.86304145\n",
      " 0.87062065 0.85519214 0.84702138 0.73250706 0.84808681 0.82784076\n",
      " 0.85411206 0.82849777 0.83571908 0.8647281  0.84309663 0.86115331\n",
      " 0.85656239 0.85227628 0.79159747 0.78321909 0.81801234 0.77941311\n",
      " 0.63489613 0.85335067 0.81976298 0.85195978 0.83693124 0.78845679\n",
      " 0.74468658 0.84296907 0.82616456 0.85510292 0.80675087 0.81784977\n",
      " 0.77356359 0.81807988 0.81645269 0.84496958 0.84770481 0.79191675\n",
      " 0.84443816 0.84807843 0.85171938 0.84169977 0.7911203  0.36691186\n",
      " 0.80461307 0.79595892 0.78354391 0.84347019 0.82952772 0.8134797\n",
      " 0.83376559 0.8383272  0.84027645 0.8094311  0.8536948  0.75089033\n",
      " 0.81719008 0.8279066  0.78258366 0.83690281 0.24888171 0.66387479\n",
      " 0.82109033 0.82566437 0.7813409  0.82903195 0.78786297 0.7012218 ]\n",
      "Train performance:\n",
      "C_index: 0.6507627393703344\n",
      "Test performance:\n",
      "C_index: 0.5350678733031674\n",
      "Outer loop: 2\n",
      "[0.81901428 0.83883169 0.86415346 0.85660712 0.85888307 0.86689772\n",
      " 0.87455063 0.86224928 0.85241573 0.73611377 0.85462883 0.83502258\n",
      " 0.85859074 0.83461718 0.84034491 0.86860718 0.84795899 0.86549354\n",
      " 0.85965114 0.85848955 0.79527708 0.78850126 0.82298021 0.7841462\n",
      " 0.635792   0.85897158 0.82716111 0.85745734 0.84257218 0.7955871\n",
      " 0.75179467 0.84669438 0.83075829 0.85989558 0.81345152 0.82122747\n",
      " 0.78052937 0.82187751 0.82369885 0.84915813 0.85171092 0.79744872\n",
      " 0.84939306 0.85372694 0.85553588 0.8458493  0.79890439 0.37544312\n",
      " 0.8104209  0.79994416 0.78915051 0.84755098 0.83497187 0.81596118\n",
      " 0.83925444 0.84175536 0.84648756 0.81626089 0.85837522 0.75704232\n",
      " 0.82214533 0.83487509 0.78845504 0.84337702 0.24776144 0.66373006\n",
      " 0.82496358 0.82888254 0.78553943 0.83452529 0.79312481 0.70447394]\n",
      "Train performance:\n",
      "C_index: 0.6569295683219734\n",
      "Test performance:\n",
      "C_index: 0.5395927601809954\n",
      "Outer loop: 3\n",
      "[0.81339684 0.83688309 0.86152212 0.85353177 0.85560209 0.86228389\n",
      " 0.8708435  0.85846514 0.84947322 0.72927421 0.84858633 0.83143275\n",
      " 0.85585916 0.83065962 0.83904987 0.86571503 0.84508393 0.86261764\n",
      " 0.85816467 0.8544707  0.79161009 0.7888821  0.82046426 0.77810131\n",
      " 0.63685768 0.8552618  0.82433311 0.85600049 0.83987604 0.79256394\n",
      " 0.74685672 0.8438682  0.82771433 0.85756357 0.81009463 0.81953697\n",
      " 0.77599441 0.81858995 0.82072094 0.84664314 0.8501979  0.792806\n",
      " 0.84830484 0.85045034 0.85184395 0.84374805 0.79627464 0.36603545\n",
      " 0.80803866 0.79553037 0.7865109  0.84385004 0.83323533 0.81462572\n",
      " 0.83707531 0.83717793 0.84173175 0.8156154  0.85682356 0.75541839\n",
      " 0.82178932 0.8321448  0.78595175 0.84065451 0.25143547 0.66523333\n",
      " 0.82120974 0.82756512 0.78283888 0.83161145 0.79156068 0.7051008 ]\n",
      "Train performance:\n",
      "C_index: 0.6533592989289192\n",
      "Test performance:\n",
      "C_index: 0.5407239819004525\n",
      "Outer loop: 4\n",
      "[0.8267631  0.849402   0.87314247 0.865349   0.86788802 0.87252988\n",
      " 0.88046957 0.8688611  0.85997052 0.7474526  0.86304167 0.84180979\n",
      " 0.86771334 0.84315748 0.85024377 0.8759764  0.85624766 0.87339491\n",
      " 0.86899324 0.86716612 0.80760937 0.79824409 0.83174741 0.79429375\n",
      " 0.65639697 0.8669509  0.83599485 0.86584588 0.84999396 0.80541154\n",
      " 0.76103977 0.85672688 0.84080455 0.86801603 0.82416802 0.8347549\n",
      " 0.79373797 0.83319303 0.83070765 0.85947298 0.86203796 0.80539219\n",
      " 0.85893816 0.86364482 0.86323308 0.85563438 0.80698837 0.38164378\n",
      " 0.82125341 0.81193759 0.79922287 0.85822389 0.8451364  0.83119779\n",
      " 0.84775861 0.85184953 0.85466468 0.82642585 0.86611544 0.76949573\n",
      " 0.8326665  0.84098223 0.80102399 0.85234084 0.26158827 0.68489136\n",
      " 0.83718144 0.83906978 0.79694259 0.84289149 0.80310962 0.71761984]\n",
      "Train performance:\n",
      "C_index: 0.6751054852320675\n",
      "Test performance:\n",
      "C_index: 0.5345022624434389\n",
      "Outer loop: 5\n",
      "[0.81979056 0.84228941 0.86532464 0.85738514 0.86035489 0.86676197\n",
      " 0.87485523 0.86167367 0.85302218 0.73796213 0.85453581 0.83559502\n",
      " 0.85965581 0.8346194  0.84171426 0.86995403 0.84999003 0.86747441\n",
      " 0.86175578 0.85874119 0.79840857 0.79034462 0.8252763  0.7837261\n",
      " 0.64017077 0.86089426 0.82797266 0.85854552 0.84404737 0.79540311\n",
      " 0.75250583 0.84819062 0.83316584 0.86231301 0.8148253  0.82452033\n",
      " 0.7835001  0.82503495 0.82410781 0.85201561 0.85473273 0.79950826\n",
      " 0.85108289 0.85551578 0.85774346 0.84847795 0.79941326 0.37384549\n",
      " 0.8120676  0.80183711 0.79133544 0.85028181 0.83654117 0.81915567\n",
      " 0.84031701 0.84434613 0.8468581  0.81565666 0.86074247 0.75939902\n",
      " 0.82562331 0.83525401 0.79113977 0.84661663 0.2518673  0.67092012\n",
      " 0.8296021  0.83130027 0.78901568 0.83401548 0.79440225 0.71016025]\n",
      "Train performance:\n",
      "C_index: 0.6715352158390133\n",
      "Test performance:\n",
      "C_index: 0.5322398190045249\n",
      "Outer loop: 6\n",
      "[0.83653957 0.8612113  0.88282461 0.87584111 0.87700807 0.88192557\n",
      " 0.89104376 0.87955429 0.87144493 0.76049815 0.87101295 0.85411571\n",
      " 0.87749664 0.85367265 0.86044787 0.88553096 0.86690591 0.88361877\n",
      " 0.87982498 0.87769096 0.81870477 0.81453333 0.84313907 0.80781111\n",
      " 0.6698419  0.87753387 0.84758171 0.87592182 0.86162586 0.81609819\n",
      " 0.77324342 0.86777547 0.85172038 0.87794989 0.83444951 0.84598676\n",
      " 0.80203548 0.84331808 0.84345031 0.86950584 0.87270521 0.81986807\n",
      " 0.86857469 0.87345963 0.8744576  0.86394235 0.8202377  0.38733079\n",
      " 0.83247089 0.82125744 0.81409844 0.8682041  0.85646923 0.84006898\n",
      " 0.85788784 0.86089139 0.86561277 0.83827782 0.87709639 0.78017249\n",
      " 0.84510636 0.85380854 0.81045412 0.86409004 0.26527986 0.6966877\n",
      " 0.84709888 0.85243667 0.80983241 0.85304564 0.8198263  0.73388921]\n",
      "Train performance:\n",
      "C_index: 0.6893865628042843\n",
      "Test performance:\n",
      "C_index: 0.5373303167420814\n",
      "Outer loop: 7\n",
      "[0.81753001 0.84109297 0.86432421 0.85698701 0.86055273 0.86596434\n",
      " 0.87573709 0.86206791 0.85346076 0.73546176 0.85387301 0.83393415\n",
      " 0.85999207 0.83393135 0.84212401 0.86857043 0.84916611 0.86657057\n",
      " 0.86080604 0.85765232 0.79607025 0.78817587 0.82255881 0.78490994\n",
      " 0.63990901 0.85986746 0.82884965 0.85747847 0.84217672 0.79552541\n",
      " 0.75088434 0.84781396 0.83177153 0.85972693 0.81398721 0.8241697\n",
      " 0.78154532 0.82382364 0.82355966 0.85079307 0.85326056 0.79500577\n",
      " 0.85142447 0.85437726 0.8568803  0.84665544 0.79717843 0.36871873\n",
      " 0.81280725 0.80059414 0.78933685 0.8494992  0.83514027 0.81947041\n",
      " 0.84032312 0.84459315 0.84601143 0.81605866 0.85855021 0.75929065\n",
      " 0.82461871 0.83406951 0.78827518 0.84459192 0.24836862 0.66807084\n",
      " 0.82549675 0.83078573 0.78798944 0.83291384 0.79348717 0.70719762]\n",
      "Train performance:\n",
      "C_index: 0.6604998377150276\n",
      "Test performance:\n",
      "C_index: 0.5333710407239819\n",
      "Outer loop: 8\n",
      "[0.82306537 0.84349268 0.86869605 0.86119034 0.86444134 0.87164452\n",
      " 0.87864009 0.8665444  0.85718877 0.74517179 0.85792561 0.83799785\n",
      " 0.8627285  0.83769936 0.84494109 0.87359273 0.85189262 0.87030821\n",
      " 0.86572737 0.86141236 0.80300409 0.79534653 0.82823298 0.78878449\n",
      " 0.64390726 0.86321602 0.8318491  0.86190579 0.84591978 0.79853935\n",
      " 0.75411093 0.8515031  0.83642877 0.86462874 0.81689617 0.82739556\n",
      " 0.78139731 0.82684512 0.82663744 0.85482348 0.85760548 0.80108001\n",
      " 0.85495238 0.85798209 0.86029558 0.85053015 0.80286884 0.38268256\n",
      " 0.8161489  0.80434959 0.79482049 0.8511679  0.84035661 0.82091856\n",
      " 0.8446055  0.84902749 0.84899143 0.81993531 0.86358784 0.76077001\n",
      " 0.82921847 0.83891279 0.7904309  0.84700357 0.24658908 0.67069748\n",
      " 0.83182093 0.83532567 0.79100374 0.8376537  0.79762726 0.711835  ]\n",
      "Train performance:\n",
      "C_index: 0.6689386562804285\n",
      "Test performance:\n",
      "C_index: 0.5339366515837104\n",
      "Outer loop: 9\n",
      "[0.83113303 0.85301207 0.87576163 0.86931409 0.87207825 0.8778647\n",
      " 0.88800269 0.8737954  0.86568487 0.74983525 0.86453252 0.84992896\n",
      " 0.87295104 0.84836423 0.85567076 0.88024216 0.86232277 0.87874169\n",
      " 0.87287495 0.87067364 0.81136241 0.80554154 0.83688839 0.79551547\n",
      " 0.65115963 0.87242252 0.84155631 0.87220769 0.85724458 0.81286984\n",
      " 0.76835159 0.86069775 0.84550171 0.87120598 0.82885076 0.83759935\n",
      " 0.79434759 0.83648064 0.83789413 0.8633386  0.86566692 0.81205852\n",
      " 0.86291807 0.867544   0.86886231 0.8602493  0.81479943 0.38220823\n",
      " 0.82638793 0.81387159 0.80706295 0.86265492 0.84962064 0.83235007\n",
      " 0.85463858 0.85410738 0.85899758 0.83359796 0.87155264 0.77343626\n",
      " 0.83709025 0.84919392 0.80518893 0.85861313 0.2570436  0.68399383\n",
      " 0.84075921 0.8449616  0.80232616 0.84703843 0.81200384 0.72404214]\n",
      "Train performance:\n",
      "C_index: 0.6780266147354755\n",
      "Test performance:\n",
      "C_index: 0.5350678733031674\n",
      "Outer loop: 10\n",
      "[0.80260342 0.82551025 0.85100238 0.84242111 0.84674793 0.85565327\n",
      " 0.86116012 0.84736696 0.83907457 0.71852161 0.84033455 0.82015676\n",
      " 0.84463505 0.82094659 0.82682624 0.85489992 0.83441207 0.85229471\n",
      " 0.8481024  0.84379546 0.78032592 0.77202664 0.80824877 0.76918223\n",
      " 0.62331827 0.84486863 0.81221148 0.84380861 0.82693577 0.7800145\n",
      " 0.73246109 0.83360687 0.81757472 0.84692076 0.79667327 0.8072652\n",
      " 0.76464212 0.80722277 0.80724882 0.83613608 0.83823089 0.78195222\n",
      " 0.83609049 0.84093363 0.84072373 0.83282099 0.78095117 0.35991631\n",
      " 0.79539186 0.78365741 0.77455981 0.83450372 0.81953488 0.8055431\n",
      " 0.82448101 0.82738931 0.8320554  0.80063225 0.84563348 0.74024326\n",
      " 0.80813239 0.81875049 0.77328763 0.82997423 0.24215453 0.65199882\n",
      " 0.81164223 0.81531484 0.77084414 0.81961879 0.77816859 0.69021902]\n",
      "Train performance:\n",
      "C_index: 0.6397273612463485\n",
      "Test performance:\n",
      "C_index: 0.5339366515837104\n",
      "[0.6507627393703344, 0.6569295683219734, 0.6533592989289192, 0.6751054852320675, 0.6715352158390133, 0.6893865628042843, 0.6604998377150276, 0.6689386562804285, 0.6780266147354755, 0.6397273612463485]\n",
      "[0.5350678733031674, 0.5395927601809954, 0.5407239819004525, 0.5345022624434389, 0.5322398190045249, 0.5373303167420814, 0.5333710407239819, 0.5339366515837104, 0.5350678733031674, 0.5339366515837104]\n",
      "Average C-index train: 0.6644271340473873\n",
      "Average C-index: 0.535576923076923\n"
     ]
    }
   ],
   "source": [
    "import matplotlib.pylab as plt\n",
    "from matplotlib.pyplot import figure\n",
    "from tensorflow import keras\n",
    "from kerastuner_tensorboard_logger import (\n",
    "    TensorBoardLogger,\n",
    "    setup_tb  # Optional\n",
    ")\n",
    "import tensorflow.keras.backend as K\n",
    "import importlib\n",
    "importlib.reload(nnet_survival)\n",
    "\n",
    "cindex_list = []\n",
    "cindex_train_list = []\n",
    "maxcindex = 0\n",
    "\n",
    "#x_train_first, x_test, y_train_first, y_test, y_train_labels_first, y_test_labels, ytime_train_first, ytime_test, ystatus_train_first, ystatus_test, ystatus_time_train_first, ystatus_time_test = train_test_split(xt,yt_final[0],yt_final[1],ytime,ystatus,ystatus_time,test_size=0.15,stratify=yt_final[1])\n",
    "  \n",
    "#y_train_final = ([],[])\n",
    "\n",
    "#for matrix,status_quantile in zip(y_train_first,y_train_labels_first):\n",
    "#    y_train_final[0].append(matrix)\n",
    "#    y_train_final[1].append(status_quantile)\n",
    "\n",
    "# init_model = Sequential()\n",
    "# init_model.add(Dense(np.sqrt(xt.shape[1]), input_dim=xt.shape[1], bias_initializer='zeros',activation='relu'))\n",
    "# #init_model.add(Dropout(0.9))\n",
    "# init_model.add(Dense(1, use_bias=0, kernel_initializer='zeros'))\n",
    "# init_model.add(nnet_survival.PropHazards(22))\n",
    "# init_model.compile(loss=nnet_survival.surv_likelihood(n_intervals), optimizer=optimizers.Adam(learning_rate=0.00001))\n",
    "\n",
    "# init_model.load_weights(\"Weights_all/CoxTnnet_pretrain_weights_all_7\")\n",
    "\n",
    "\n",
    "# tuner = CVTuner(\n",
    "#     hypermodel=SurvivalHyperModel(n_intervals,init_model.layers[0].get_weights()),\n",
    "#     project_name='pdac_model_21',\n",
    "#     directory='pdac_model_dir',\n",
    "#     logger=TensorBoardLogger(metrics=[\"val_loss\"], logdir=(\"ktuner/logs_pdac_21/\")),\n",
    "#     oracle=kt.oracles.RandomSearch(\n",
    "#         objective='val_loss',\n",
    "#         max_trials=8))\n",
    "# tuner.search(xt,yt_final,epochs=40000)\n",
    "\n",
    "# tuner.results_summary(num_trials=8)\n",
    "\n",
    "optimal_l2 = 0.00001\n",
    "optimal_batch = 8\n",
    "\n",
    "\n",
    "#     init_model = Sequential()\n",
    "#     init_model.add(Dense(np.sqrt(xt.shape[1]), input_dim=xt.shape[1], bias_initializer='zeros', activation='relu',kernel_regularizer=regularizers.l2(0.01)))\n",
    "#     init_model.add(Dense(1, use_bias=0, kernel_initializer='zeros'))\n",
    "#     init_model.add(nnet_survival.PropHazards(22))\n",
    "#     init_model.compile(loss=nnet_survival.surv_likelihood(22), optimizer=optimizers.Adam(learning_rate=0.00001))\n",
    "\n",
    "#     init_model.load_weights(\"Weights_all/CoxTnnet_pretrain_weights_all_8\")\n",
    "\n",
    "    model = Sequential()\n",
    "    model.add(Dense(np.sqrt(xt.shape[1]), input_dim=xt.shape[1], bias_initializer='zeros',activation='relu',kernel_regularizer=regularizers.l2(optimal_l2)))\n",
    "    #model.add(Dropout(optimal_dropout_1))\n",
    "    model.add(Dense(1, use_bias=0, kernel_initializer='zeros'))\n",
    "    model.add(nnet_survival.PropHazards(n_intervals))\n",
    "    model.compile(loss=nnet_survival.surv_likelihood(n_intervals), optimizer=optimizers.Adam(learning_rate=0.000001))\n",
    "\n",
    "#    model.layers[0].set_weights(init_model.layers[0].get_weights())\n",
    "        \n",
    "    tensorboard_callback = tf.keras.callbacks.TensorBoard(log_dir=(\"ktuner/logs_pdac_final_icgc_nt_5/outer_loop_\" + str(p + 1)), histogram_freq=0, embeddings_freq=0, write_graph=False, update_freq='batch')\n",
    "    callbacks_list = [tensorboard_callback]\n",
    "\n",
    "    history = model.fit(xt,y_t,batch_size=optimal_batch,epochs=4800, callbacks=callbacks_list,verbose=0) \n",
    "\n",
    "\n",
    "\n",
    "\n",
    "for p in range(10):\n",
    "    print(\"Outer loop: \" + str(p + 1))\n",
    "    skf = StratifiedKFold(n_splits=5, shuffle=True)\n",
    "    \n",
    "    k = 1\n",
    "    \n",
    "    test_performance = []\n",
    "    train_performance = []\n",
    "    \n",
    "#     init_model = Sequential()\n",
    "#     init_model.add(Dense(np.sqrt(xt.shape[1]), input_dim=xt.shape[1], bias_initializer='zeros', activation='relu',kernel_regularizer=regularizers.l2(0.01)))\n",
    "#     init_model.add(Dense(1, use_bias=0, kernel_initializer='zeros'))\n",
    "#     init_model.add(nnet_survival.PropHazards(22))\n",
    "#     init_model.compile(loss=nnet_survival.surv_likelihood(22), optimizer=optimizers.Adam(learning_rate=0.00001))\n",
    "\n",
    "#     init_model.load_weights(\"Weights_all/CoxTnnet_pretrain_weights_all_8\")\n",
    "\n",
    "    model = Sequential()\n",
    "    model.add(Dense(np.sqrt(xt.shape[1]), input_dim=xt.shape[1], bias_initializer='zeros',activation='relu',kernel_regularizer=regularizers.l2(optimal_l2)))\n",
    "    #model.add(Dropout(optimal_dropout_1))\n",
    "    model.add(Dense(1, use_bias=0, kernel_initializer='zeros'))\n",
    "    model.add(nnet_survival.PropHazards(n_intervals))\n",
    "    model.compile(loss=nnet_survival.surv_likelihood(n_intervals), optimizer=optimizers.Adam(learning_rate=0.000001))\n",
    "\n",
    "#    model.layers[0].set_weights(init_model.layers[0].get_weights())\n",
    "        \n",
    "    tensorboard_callback = tf.keras.callbacks.TensorBoard(log_dir=(\"ktuner/logs_pdac_final_icgc_nt_5/outer_loop_\" + str(p + 1)), histogram_freq=0, embeddings_freq=0, write_graph=False, update_freq='batch')\n",
    "    callbacks_list = [tensorboard_callback]\n",
    "\n",
    "    history = model.fit(xt,y_t,batch_size=optimal_batch,epochs=4800, callbacks=callbacks_list,verbose=0)  \n",
    "    \n",
    "    \n",
    "#     for train_indices, test_indices in skf.split(xt,yt_final[1]):\n",
    "#         print(\"Inner loop: \" + str(k))\n",
    "#         x_train, x_test = xt[train_indices], xt[test_indices]\n",
    "#         y_train, y_test = np.array(yt_final[0])[train_indices], np.array(yt_final[0])[test_indices]\n",
    "#         y_train, y_test_labels = np.array(yt_final[1])[train_indices], np.array(yt_final[1])[test_indices]\n",
    "#         ystatus_train, ystatus_test = ystatus[train_indices], ystatus[test_indices]\n",
    "#         ytime_train, ytime_test = ytime[train_indices], ytime[test_indices]\n",
    "        \n",
    "#         # x_train, x_val, y_train, y_val, y_train_labels, y_val_labels, ytime_train, ytime_val, ystatus_train, ystatus_val, = train_test_split(x_train_first,y_train_first,\n",
    "#         #                                                                                                                                      y_train_labels_first,\n",
    "#         #                                                                                                                                      ytime_train_first,\n",
    "#         #                                                                                                                                      ystatus_train_first,\n",
    "#         #                                                                                                                                      test_size=0.15,\n",
    "#         #                                                                                                                                      stratify=y_train_labels_first,\n",
    "#         #                                                                                                                                      random_state=(419))\n",
    "        \n",
    "        \n",
    "#         init_model = Sequential()\n",
    "#         init_model.add(Dense(np.sqrt(xt.shape[1]), input_dim=xt.shape[1], bias_initializer='zeros',activation='relu',kernel_regularizer=regularizers.l2(0.01)))\n",
    "#         init_model.add(Dense(1, use_bias=0, kernel_initializer='zeros'))\n",
    "#         init_model.add(nnet_survival.PropHazards(22))\n",
    "#         init_model.compile(loss=nnet_survival.surv_likelihood(n_intervals), optimizer=optimizers.Adam(learning_rate=0.00001))\n",
    "\n",
    "#         init_model.load_weights(\"Weights_all/CoxTnnet_pretrain_weights_all_7\")\n",
    "\n",
    "#         model = Sequential()\n",
    "#         model.add(Dense(np.sqrt(xt.shape[1]), input_dim=xt.shape[1], bias_initializer='zeros',activation='relu',kernel_regularizer=regularizers.l2(optimal_l2)))\n",
    "#         #model.add(Dropout(optimal_dropout_1))\n",
    "#         model.add(Dense(1, use_bias=0, kernel_initializer='zeros'))\n",
    "#         model.add(nnet_survival.PropHazards(n_intervals))\n",
    "#         model.compile(loss=nnet_survival.surv_likelihood(n_intervals), optimizer=optimizers.Adam(learning_rate=0.00001))\n",
    "\n",
    "# #        model.layers[0].set_weights(init_model.layers[0].get_weights())\n",
    "        \n",
    "        \n",
    "#         #early_stopping = EarlyStopping(monitor='val_loss', patience=100, min_delta=0.001, restore_best_weights=True)\n",
    "#         tensorboard_callback = tf.keras.callbacks.TensorBoard(log_dir=(\"ktuner/logs_pdac_final_exp30/outer_loop_\" + str(p + 1) + \"/fold_\" + str(k)), histogram_freq=0, embeddings_freq=0, write_graph=False, update_freq='batch')\n",
    "#         #cindex_callback = cindex(train=(x_train,y_train,ytime_train,ystatus_train),validation=(x_val,y_val,ytime_val,ystatus_val))\n",
    "#         callbacks_list = [tensorboard_callback]\n",
    "        \n",
    "#         history = model.fit(x_train_first,y_train_first,batch_size=optimal_batch,epochs=120, callbacks=callbacks_list,verbose=0)\n",
    "        \n",
    "# #         train_summary_writer = tf.summary.create_file_writer(\"ktuner/logs_pdac_final_exp28/outer_loop_\" + str(p + 1) + \"/fold_\" + str(k))\n",
    "# #         for epoch in range(len(history.history['cindex_score_train'])):\n",
    "# #             with train_summary_writer.as_default():\n",
    "# #                 tf.summary.scalar('cindex_score_train', history.history['cindex_score_train'][epoch], step=epoch)\n",
    "# #                 tf.summary.scalar('cindex_score_val', history.history['cindex_score_val'][epoch], step=epoch)\n",
    "        \n",
    "#         k += 1\n",
    "        \n",
    "#         y_pred = nnet_survival.nnet_pred_surv(model.predict(x_train,verbose=0), breaks, 365)\n",
    "#         c_index_train = concordance_index(ytime_train, y_pred, ystatus_train)\n",
    "\n",
    "#         y_pred = nnet_survival.nnet_pred_surv(model.predict(x_test,verbose=0), breaks, 365)\n",
    "#         c_index_test = concordance_index(ytime_test, y_pred, ystatus_test)\n",
    "        \n",
    "#         train_performance.append(c_index_train)\n",
    "#         test_performance.append(c_index_test)\n",
    "\n",
    "#         # if c_index_test > maxcindex:\n",
    "#         #     maxcindex = c_index_test\n",
    "#         #     model.save(\"CoxTnnet_PDAC_model_1.0\")\n",
    "    \n",
    "    y_pred_t = nnet_survival.nnet_pred_surv(model.predict(xt,verbose=0), breaks, 365)\n",
    "    c_index_train = concordance_index(ytime, y_pred_t, ystatus)\n",
    "\n",
    "    y_pred_v = nnet_survival.nnet_pred_surv(model.predict(xv_t,verbose=0), vbreaks, 365)\n",
    "    print(y_pred_v)\n",
    "    c_index_test = concordance_index(yvtime, y_pred_v, yvstatus)\n",
    "    \n",
    "    print(\"Train performance:\")\n",
    "    print(\"C_index: \" + str(c_index_train))\n",
    "    \n",
    "    print(\"Test performance:\")\n",
    "    print(\"C_index: \" + str(c_index_test))\n",
    "    \n",
    "    cindex_train_list.append(c_index_train)\n",
    "    cindex_list.append(c_index_test)\n",
    "        \n",
    "        \n",
    "    \n",
    "    \n",
    "    \n",
    "    \n",
    "\n",
    "\n",
    "\n",
    "# #     x_train_first, x_test, y_train_first, y_test, y_train_labels_first, y_test_labels, ytime_train_first, ytime_test, ystatus_train_first, ystatus_test, ystatus_time_train_first, ystatus_time_test = train_test_split(xt,yt_final[0],yt_final[1],ytime,\n",
    "# #                                                                                                                                                ystatus,ystatus_time,\n",
    "# #                                                                                                                                                test_size=0.15,\n",
    "# #                                                                                                                                                stratify=yt_final[1],\n",
    "# #                                                                                                                                                random_state=(560+p))\n",
    "    \n",
    "\n",
    "    \n",
    "# #     y_train = np.array(y_train)\n",
    "# #     y_val = np.array(y_val)\n",
    "# #     y_test = np.array(y_test)\n",
    "    \n",
    "# #     init_model = Sequential()\n",
    "# #     init_model.add(Dense(np.sqrt(xt.shape[1]), input_dim=xt.shape[1], bias_initializer='zeros',activation='relu'))\n",
    "# #     #init_model.add(Dropout(0.9))\n",
    "# #     init_model.add(Dense(1, use_bias=0, kernel_initializer='zeros'))\n",
    "# #     init_model.add(nnet_survival.PropHazards(22))\n",
    "# #     init_model.compile(loss=nnet_survival.surv_likelihood(n_intervals), optimizer=optimizers.Adam(learning_rate=0.00001))\n",
    "\n",
    "# #     init_model.load_weights(\"Weights_all/CoxTnnet_pretrain_weights_all_6\")\n",
    "    \n",
    "# #     model = Sequential()\n",
    "# #     model.add(Dense(np.sqrt(xt.shape[1]), input_dim=xt.shape[1], bias_initializer='zeros',activation='relu',kernel_regularizer=regularizers.l2(0.001)))\n",
    "# #     #model.add(Dropout(optimal_dropout_1))\n",
    "# #     model.add(Dense(1, use_bias=0, kernel_initializer='zeros'))\n",
    "# #     model.add(nnet_survival.PropHazards(n_intervals))\n",
    "# #     model.compile(loss=nnet_survival.surv_likelihood(n_intervals), optimizer=optimizers.Adam(learning_rate=0.00001))\n",
    "    \n",
    "# #     model.layers[0].set_weights(init_model.layers[0].get_weights())\n",
    "\n",
    "# #     early_stopping = EarlyStopping(monitor='val_loss', patience=100, min_delta=0.001, restore_best_weights=True)\n",
    "# #     tensorboard_callback = tf.keras.callbacks.TensorBoard(log_dir=(\"ktuner/logs_pdac_final_exp25/outer_loop_\" + str(p + 1)), histogram_freq=0, embeddings_freq=0, write_graph=False, update_freq='batch')\n",
    "# #     cindex_callback = cindex(train=(x_train,y_train,ytime_train,ystatus_train),validation=(x_val,y_val,ytime_val,ystatus_val))\n",
    "# #     callbacks_list = [early_stopping,tensorboard_callback,cindex_callback]\n",
    "\n",
    "# #     history = model.fit(x_train,y_train,validation_data=(x_val,y_val),batch_size=optimal_batch,epochs=40000, callbacks=callbacks_list,verbose=0)\n",
    "    \n",
    "# #     train_summary_writer = tf.summary.create_file_writer(\"ktuner/logs_pdac_final_exp25/outer_loop_\" + str(p + 1))\n",
    "    \n",
    "# #     for epoch in range(len(history.history['cindex_score_train'])):\n",
    "# #         with train_summary_writer.as_default():\n",
    "# #             tf.summary.scalar('cindex_score_train', history.history['cindex_score_train'][epoch], step=epoch)\n",
    "# #             tf.summary.scalar('cindex_score_val', history.history['cindex_score_val'][epoch], step=epoch)\n",
    "            \n",
    "    \n",
    "# #     outputs = [K.function([model.input], [layer.output])([x_train_first]) for layer in model.layers]\n",
    "\n",
    "# #     i = 1\n",
    "# #     for output in outputs:\n",
    "# #         print(\"Output layer: \" + str(i))\n",
    "# #         print(output[0][0])\n",
    "# #         print(output[0][1])\n",
    "# #         i += 1\n",
    "            \n",
    "\n",
    "#     # Performance of final model\n",
    "  \n",
    "# #     y_pred = nnet_survival.nnet_pred_surv(model.predict(x_train_first,verbose=0), breaks, 365)\n",
    "# #     c_index_train = concordance_index(ytime_train_first, y_pred, ystatus_train_first)\n",
    "    \n",
    "# #     print(\"Train performance:\")\n",
    "# #     print(\"C_index: \" + str(c_index_train))\n",
    "    \n",
    "# #     y_pred = nnet_survival.nnet_pred_surv(model.predict(x_test,verbose=0), breaks, 365)\n",
    "# #     c_index_test = concordance_index(ytime_test, y_pred, ystatus_test)\n",
    "\n",
    "# #     print(\"Test performance:\")\n",
    "# #     print(\"C_index: \" + str(c_index_test))\n",
    "\n",
    "# #     cindex_train_list.append(c_index_train)\n",
    "# #     cindex_list.append(c_index_test)\n",
    "\n",
    "# #     if c_index_test > maxcindex:\n",
    "# #         maxcindex = c_index_test\n",
    "# #         model.save(\"CoxTnnet_PDAC_model_1.0\")\n",
    "\n",
    "# with open('cscore_pdacmodel.txt', 'a') as o:\n",
    "#         print(str(cindex_train_list) + \"\\n\", file=o)\n",
    "#         print(str(cindex_list) + \"\\n\", file=o)\n",
    "#         print(\"Average C-inde32x: \" + str(sum(cindex_list) / 10) + \"\\n\",file=o)\n",
    "#         o.close()\n",
    "print(cindex_train_list)\n",
    "print(cindex_list)\n",
    "print(\"Average C-index train: \" + str(sum(cindex_train_list)/10))\n",
    "print(\"Average C-index: \" + str(sum(cindex_list)/10))"
   ]
  },
  {
   "cell_type": "code",
   "execution_count": 264,
   "id": "fb3cf050-9d3e-4fef-973e-3a281b1f3ebf",
   "metadata": {
    "collapsed": true,
    "jupyter": {
     "outputs_hidden": true,
     "source_hidden": true
    },
    "tags": []
   },
   "outputs": [
    {
     "name": "stdout",
     "output_type": "stream",
     "text": [
      "[0.8818565400843882, 0.8799091204154496, 0.8906199285946121, 0.8834793898085037, 0.8834793898085037, 0.8847776695877961, 0.8876987990912042, 0.881207400194742, 0.8795845504706264, 0.8763388510223953]\n",
      "[0.5542986425339367, 0.5537330316742082, 0.5574095022624435, 0.5605203619909502, 0.5390271493212669, 0.5537330316742082, 0.5588235294117647, 0.5559954751131222, 0.544683257918552, 0.5565610859728507]\n",
      "Average C-index: 0.5534785067873302\n"
     ]
    }
   ],
   "source": [
    "print(cindex_train_list)\n",
    "print(cindex_list)\n",
    "print(\"Average C-index: \" + str(sum(cindex_list)/10))"
   ]
  },
  {
   "cell_type": "raw",
   "id": "2bf6f14b-84f9-499f-8a7e-810bb02f993d",
   "metadata": {
    "jupyter": {
     "source_hidden": true
    },
    "tags": []
   },
   "source": [
    "def calib_plot(fu_time, n_bins, pred_surv, time, dead, color, label, error_bars=0,alpha=1., markersize=1., markertype='o'):\n",
    "\tcuts = np.concatenate((np.array([-1e6]),np.percentile(pred_surv, np.arange(100/n_bins,100,100/n_bins)),np.array([1e6])))\n",
    "\tbin = pd.cut(pred_surv,cuts,labels=False)\n",
    "\tkmf = KaplanMeierFitter()\n",
    "\test = []\n",
    "\tci_upper = []\n",
    "\tci_lower = []\n",
    "\tmean_pred_surv = []\n",
    "\tfor which_bin in range(max(bin)+1):\n",
    "\t\tkmf.fit(time[bin==which_bin], event_observed=dead[bin==which_bin])\n",
    "\t\test.append(np.interp(fu_time, kmf.survival_function_.index.values, kmf.survival_function_.KM_estimate))\n",
    "\t\tci_upper.append(np.interp(fu_time, kmf.survival_function_.index.values, kmf.confidence_interval_.loc[:,'KM_estimate_upper_0.95']))\n",
    "\t\tci_lower.append(np.interp(fu_time, kmf.survival_function_.index.values, kmf.confidence_interval_.loc[:,'KM_estimate_lower_0.95']))\n",
    "\t\tmean_pred_surv.append(np.mean(pred_surv[bin==which_bin]))\n",
    "\test = np.array(est)\n",
    "\tci_upper = np.array(ci_upper)\n",
    "\tci_lower = np.array(ci_lower)\n",
    "\tif error_bars:\n",
    "\t\tplt.errorbar(mean_pred_surv, est, yerr = np.transpose(np.column_stack((est-ci_lower,ci_upper-est))), fmt='o',c=color,label=label)\n",
    "\telse:\n",
    "\t\tplt.plot(mean_pred_surv, est, markertype, c=color,label=label, alpha=alpha, markersize=markersize)\n",
    "\treturn (mean_pred_surv, est)"
   ]
  },
  {
   "cell_type": "code",
   "execution_count": 80,
   "id": "bdafb8a9-94aa-4faf-9b9f-66379b6144e5",
   "metadata": {
    "collapsed": true,
    "jupyter": {
     "outputs_hidden": true,
     "source_hidden": true
    },
    "tags": []
   },
   "outputs": [
    {
     "name": "stdout",
     "output_type": "stream",
     "text": [
      "[0.597577   0.54724316 0.59739087 0.5033036  0.5304236  0.55372898\n",
      " 0.48690771 0.59559546 0.60540265 0.634495   0.626451   0.55588039\n",
      " 0.65917277 0.57541329 0.5516417  0.62380797 0.66145209 0.51232759\n",
      " 0.56335759 0.40504964 0.64507    0.6105624 ]\n",
      "[ 160.  347.  910.   95.  488.   35.  460. 1332.  397.   23.  161.  128.\n",
      "    7.  627.  738.  164.  105.    7.  532.  145.  329.  239.]\n",
      "[0 0 0 1 0 0 1 1 0 0 0 1 0 1 1 0 0 0 1 1 0 1]\n"
     ]
    },
    {
     "data": {
      "image/png": "[encoded data removed]",
      "text/plain": [
       "<Figure size 432x288 with 1 Axes>"
      ]
     },
     "metadata": {
      "needs_background": "light"
     },
     "output_type": "display_data"
    }
   ],
   "source": [
    "\n",
    "#loaded_model = tf.keras.models.load_model(\"CoxTnnet_PDAC_model_1.0\",custom_objects={'loss': nnet_survival.surv_likelihood(n_intervals)})\n",
    "\n",
    "\n",
    "x_train, x_test, y_train, y_test, ytime_train, ytime_test, ystatus_train, ystatus_test, = train_test_split(xt,yt_final[0],\n",
    "                                                                                                           ytime,\n",
    "                                                                                                           ystatus,\n",
    "                                                                                                           test_size=0.15,\n",
    "                                                                                                           stratify=yt_final[1],\n",
    "                                                                                                           random_state=(419+k))\n",
    "\n",
    "\n",
    "y_pred = nnet_survival.nnet_pred_surv(model.predict(x_test,verbose=0), breaks, 365)\n",
    "print(y_pred)\n",
    "print(ytime_test)\n",
    "print(ystatus_test)\n",
    "\n",
    "n_bins = 20\n",
    "CB_color_cycle = ['#377eb8', '#ff7f00', '#4daf4a','#f781bf', '#a65628', '#984ea3','#999999', '#e41a1c', '#dede00']\n",
    "my_alpha = 1\n",
    "my_markersize = 5.\n",
    "\n",
    "plt.plot([0,1], [0,1], ls=\"--\", c=\".7\")\n",
    "pred, actual=calib_plot(365, n_bins, y_pred, ytime_test, ystatus_test,\n",
    "                          CB_color_cycle[1],'Nnet-survival', alpha=my_alpha, markersize=my_markersize, markertype='o')\n",
    "\n",
    "plt.xlim([0,1])\n",
    "plt.ylim([0,1])\n",
    "plt.legend()\n",
    "plt.xlabel('Predicted survival rate')\n",
    "plt.ylabel('Actual survival rate')\n",
    "\n",
    "plt.show()\n",
    "        \n",
    "  \n",
    "\n",
    "\n",
    "\n",
    "\n"
   ]
  },
  {
   "cell_type": "code",
   "execution_count": null,
   "id": "8c5962d1-3988-4318-ac6f-1bc74a243edd",
   "metadata": {
    "jupyter": {
     "source_hidden": true
    },
    "tags": []
   },
   "outputs": [],
   "source": [
    "with open('cscore_pdacmodel_all_adaptive_exp1.txt', 'a') as o:\n",
    "        print(str(cindex_train_list), file=o)\n",
    "        print(str(cindex_list), file=o)\n",
    "        #print(str(cipcw_list), file=o)\n",
    "        print(\"Average C-index: \" + str(sum(cindex_list) / 10),file=o)\n",
    "        #print(\"Average C-ipcw: \" + str(sum(cipcw_list) / 10),file=o)\n",
    "        o.close()"
   ]
  },
  {
   "cell_type": "code",
   "execution_count": 32,
   "id": "f377439b-661a-4d20-b8ea-c82404eb102b",
   "metadata": {
    "collapsed": true,
    "jupyter": {
     "outputs_hidden": true,
     "source_hidden": true
    },
    "tags": []
   },
   "outputs": [
    {
     "name": "stdout",
     "output_type": "stream",
     "text": [
      "Average C-index test: 0.6406241703369638\n",
      "Average C-index train: 0.7917996927485694\n"
     ]
    }
   ],
   "source": [
    "print(\"Average C-index test: \" + str(sum(cindex_list)/10))\n",
    "print(\"Average C-index train: \" + str(sum(cindex_train_list)/10))"
   ]
  },
  {
   "cell_type": "code",
   "execution_count": 33,
   "id": "ea6212d6-5fe7-4d3b-a564-bdf55a8bd0f4",
   "metadata": {
    "collapsed": true,
    "jupyter": {
     "outputs_hidden": true,
     "source_hidden": true
    },
    "tags": []
   },
   "outputs": [
    {
     "name": "stdout",
     "output_type": "stream",
     "text": [
      "0.6752482105749249\n"
     ]
    }
   ],
   "source": [
    "print(np.median(cindex_list))"
   ]
  },
  {
   "cell_type": "code",
   "execution_count": null,
   "id": "aa7f08c1-83cc-4fc4-aee2-41600cb1dfb3",
   "metadata": {
    "jupyter": {
     "source_hidden": true
    },
    "tags": []
   },
   "outputs": [],
   "source": [
    "print(\"Average Brier score: \" + str(sum(brierscore_list)/10))"
   ]
  }
 ],
 "metadata": {
  "environment": {
   "kernel": "python3",
   "name": "tf2-gpu.2-9.m94",
   "type": "gcloud",
   "uri": "gcr.io/deeplearning-platform-release/tf2-gpu.2-9:m94"
  },
  "kernelspec": {
   "display_name": "Python 3",
   "language": "python",
   "name": "python3"
  },
  "language_info": {
   "codemirror_mode": {
    "name": "ipython",
    "version": 3
   },
   "file_extension": ".py",
   "mimetype": "text/x-python",
   "name": "python",
   "nbconvert_exporter": "python",
   "pygments_lexer": "ipython3",
   "version": "3.7.12"
  }
 },
 "nbformat": 4,
 "nbformat_minor": 5
}
